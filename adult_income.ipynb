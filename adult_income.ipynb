{
 "cells": [
  {
   "cell_type": "code",
   "execution_count": 2,
   "id": "86c3ebb8",
   "metadata": {},
   "outputs": [],
   "source": [
    "import pandas as pd\n",
    "import numpy as np\n",
    "import matplotlib.pyplot as plt\n",
    "from sklearn.preprocessing import OneHotEncoder, StandardScaler\n",
    "from sklearn.compose import ColumnTransformer\n",
    "from sklearn.pipeline import Pipeline\n",
    "from sklearn.impute import SimpleImputer\n",
    "from sklearn.metrics import confusion_matrix, roc_curve, auc, ConfusionMatrixDisplay\n",
    "import torch\n",
    "from torch import nn\n",
    "from torch.utils.data import DataLoader, TensorDataset\n"
   ]
  },
  {
   "cell_type": "code",
   "execution_count": 3,
   "id": "1f0eac55",
   "metadata": {},
   "outputs": [],
   "source": [
    "\n",
    "def load_adult_data():\n",
    "    # 列名\n",
    "    col_names = [\n",
    "        \"age\", \"workclass\", \"fnlwgt\", \"education\", \"education-num\", \"marital-status\",\n",
    "        \"occupation\", \"relationship\", \"race\", \"sex\", \"capital-gain\", \"capital-loss\",\n",
    "        \"hours-per-week\", \"native-country\", \"income\"\n",
    "    ]\n",
    "\n",
    "    # 训练集\n",
    "    train_url = \"https://archive.ics.uci.edu/ml/machine-learning-databases/adult/adult.data\"\n",
    "    df_train = pd.read_csv(train_url, header=None, names=col_names, na_values=\" ?\", skipinitialspace=True)\n",
    "\n",
    "    # 测试集\n",
    "    test_url = \"https://archive.ics.uci.edu/ml/machine-learning-databases/adult/adult.test\"\n",
    "    df_test = pd.read_csv(test_url, header=0, names=col_names, na_values=\" ?\", skipinitialspace=True)\n",
    "\n",
    "    # 去掉标签里的 \".\" 符号\n",
    "    df_test[\"income\"] = df_test[\"income\"].str.replace(\".\", \"\", regex=False).str.strip()\n",
    "\n",
    "    return df_train, df_test"
   ]
  },
  {
   "cell_type": "code",
   "execution_count": 4,
   "id": "31fedc0c",
   "metadata": {},
   "outputs": [],
   "source": [
    "df_train, df_test = load_adult_data()\n"
   ]
  },
  {
   "cell_type": "code",
   "execution_count": 5,
   "id": "018dcffb",
   "metadata": {},
   "outputs": [
    {
     "data": {
      "text/html": [
       "<div>\n",
       "<style scoped>\n",
       "    .dataframe tbody tr th:only-of-type {\n",
       "        vertical-align: middle;\n",
       "    }\n",
       "\n",
       "    .dataframe tbody tr th {\n",
       "        vertical-align: top;\n",
       "    }\n",
       "\n",
       "    .dataframe thead th {\n",
       "        text-align: right;\n",
       "    }\n",
       "</style>\n",
       "<table border=\"1\" class=\"dataframe\">\n",
       "  <thead>\n",
       "    <tr style=\"text-align: right;\">\n",
       "      <th></th>\n",
       "      <th>age</th>\n",
       "      <th>workclass</th>\n",
       "      <th>fnlwgt</th>\n",
       "      <th>education</th>\n",
       "      <th>education-num</th>\n",
       "      <th>marital-status</th>\n",
       "      <th>occupation</th>\n",
       "      <th>relationship</th>\n",
       "      <th>race</th>\n",
       "      <th>sex</th>\n",
       "      <th>capital-gain</th>\n",
       "      <th>capital-loss</th>\n",
       "      <th>hours-per-week</th>\n",
       "      <th>native-country</th>\n",
       "      <th>income</th>\n",
       "    </tr>\n",
       "  </thead>\n",
       "  <tbody>\n",
       "    <tr>\n",
       "      <th>30547</th>\n",
       "      <td>18</td>\n",
       "      <td>Private</td>\n",
       "      <td>137646</td>\n",
       "      <td>11th</td>\n",
       "      <td>7</td>\n",
       "      <td>Never-married</td>\n",
       "      <td>Other-service</td>\n",
       "      <td>Own-child</td>\n",
       "      <td>White</td>\n",
       "      <td>Female</td>\n",
       "      <td>0</td>\n",
       "      <td>0</td>\n",
       "      <td>15</td>\n",
       "      <td>United-States</td>\n",
       "      <td>&lt;=50K</td>\n",
       "    </tr>\n",
       "    <tr>\n",
       "      <th>29887</th>\n",
       "      <td>25</td>\n",
       "      <td>Private</td>\n",
       "      <td>180778</td>\n",
       "      <td>HS-grad</td>\n",
       "      <td>9</td>\n",
       "      <td>Never-married</td>\n",
       "      <td>Craft-repair</td>\n",
       "      <td>Not-in-family</td>\n",
       "      <td>White</td>\n",
       "      <td>Male</td>\n",
       "      <td>0</td>\n",
       "      <td>0</td>\n",
       "      <td>75</td>\n",
       "      <td>United-States</td>\n",
       "      <td>&lt;=50K</td>\n",
       "    </tr>\n",
       "    <tr>\n",
       "      <th>3416</th>\n",
       "      <td>39</td>\n",
       "      <td>Local-gov</td>\n",
       "      <td>305597</td>\n",
       "      <td>HS-grad</td>\n",
       "      <td>9</td>\n",
       "      <td>Separated</td>\n",
       "      <td>Exec-managerial</td>\n",
       "      <td>Unmarried</td>\n",
       "      <td>White</td>\n",
       "      <td>Male</td>\n",
       "      <td>0</td>\n",
       "      <td>0</td>\n",
       "      <td>40</td>\n",
       "      <td>United-States</td>\n",
       "      <td>&lt;=50K</td>\n",
       "    </tr>\n",
       "    <tr>\n",
       "      <th>5419</th>\n",
       "      <td>28</td>\n",
       "      <td>Private</td>\n",
       "      <td>183780</td>\n",
       "      <td>HS-grad</td>\n",
       "      <td>9</td>\n",
       "      <td>Married-civ-spouse</td>\n",
       "      <td>Transport-moving</td>\n",
       "      <td>Husband</td>\n",
       "      <td>White</td>\n",
       "      <td>Male</td>\n",
       "      <td>0</td>\n",
       "      <td>1740</td>\n",
       "      <td>40</td>\n",
       "      <td>United-States</td>\n",
       "      <td>&lt;=50K</td>\n",
       "    </tr>\n",
       "    <tr>\n",
       "      <th>23744</th>\n",
       "      <td>55</td>\n",
       "      <td>?</td>\n",
       "      <td>170994</td>\n",
       "      <td>HS-grad</td>\n",
       "      <td>9</td>\n",
       "      <td>Never-married</td>\n",
       "      <td>?</td>\n",
       "      <td>Not-in-family</td>\n",
       "      <td>White</td>\n",
       "      <td>Female</td>\n",
       "      <td>0</td>\n",
       "      <td>0</td>\n",
       "      <td>40</td>\n",
       "      <td>United-States</td>\n",
       "      <td>&lt;=50K</td>\n",
       "    </tr>\n",
       "  </tbody>\n",
       "</table>\n",
       "</div>"
      ],
      "text/plain": [
       "       age  workclass  fnlwgt education  education-num      marital-status  \\\n",
       "30547   18    Private  137646      11th              7       Never-married   \n",
       "29887   25    Private  180778   HS-grad              9       Never-married   \n",
       "3416    39  Local-gov  305597   HS-grad              9           Separated   \n",
       "5419    28    Private  183780   HS-grad              9  Married-civ-spouse   \n",
       "23744   55          ?  170994   HS-grad              9       Never-married   \n",
       "\n",
       "             occupation   relationship   race     sex  capital-gain  \\\n",
       "30547     Other-service      Own-child  White  Female             0   \n",
       "29887      Craft-repair  Not-in-family  White    Male             0   \n",
       "3416    Exec-managerial      Unmarried  White    Male             0   \n",
       "5419   Transport-moving        Husband  White    Male             0   \n",
       "23744                 ?  Not-in-family  White  Female             0   \n",
       "\n",
       "       capital-loss  hours-per-week native-country income  \n",
       "30547             0              15  United-States  <=50K  \n",
       "29887             0              75  United-States  <=50K  \n",
       "3416              0              40  United-States  <=50K  \n",
       "5419           1740              40  United-States  <=50K  \n",
       "23744             0              40  United-States  <=50K  "
      ]
     },
     "execution_count": 5,
     "metadata": {},
     "output_type": "execute_result"
    }
   ],
   "source": [
    "df_train.sample(5)"
   ]
  },
  {
   "cell_type": "code",
   "execution_count": 7,
   "id": "037e739f",
   "metadata": {},
   "outputs": [],
   "source": [
    "def preprocess_data(df_train, df_test):\n",
    "    # 分离特征与标签\n",
    "    X_train, y_train = df_train.drop(\"income\", axis=1), df_train[\"income\"]\n",
    "    X_test, y_test = df_test.drop(\"income\", axis=1), df_test[\"income\"]\n",
    "\n",
    "    # 转换标签为 0/1\n",
    "    y_train = y_train.apply(lambda v: 1 if v.strip() == \">50K\" else 0).values\n",
    "    y_test = y_test.apply(lambda v: 1 if v.strip() == \">50K\" else 0).values\n",
    "\n",
    "    # 数值/类别特征\n",
    "    numeric_features = [\"age\", \"fnlwgt\", \"education-num\", \"capital-gain\", \"capital-loss\", \"hours-per-week\"]\n",
    "    categorical_features = [\"workclass\", \"education\", \"marital-status\", \"occupation\",\n",
    "                            \"relationship\", \"race\", \"sex\", \"native-country\"]\n",
    "\n",
    "    # 预处理管道\n",
    "    numeric_transformer = Pipeline([\n",
    "        (\"imputer\", SimpleImputer(strategy=\"median\")),\n",
    "        (\"scaler\", StandardScaler())\n",
    "    ])\n",
    "    categorical_transformer = Pipeline([\n",
    "        (\"imputer\", SimpleImputer(strategy=\"most_frequent\")),\n",
    "        (\"onehot\", OneHotEncoder(handle_unknown=\"ignore\"))\n",
    "    ])\n",
    "    preprocessor = ColumnTransformer([\n",
    "        (\"num\", numeric_transformer, numeric_features),\n",
    "        (\"cat\", categorical_transformer, categorical_features)\n",
    "    ])\n",
    "\n",
    "    # 拟合 & 转换\n",
    "    X_train_processed = preprocessor.fit_transform(X_train)\n",
    "    X_test_processed = preprocessor.transform(X_test)\n",
    "\n",
    "    return X_train_processed, y_train, X_test_processed, y_test"
   ]
  },
  {
   "cell_type": "code",
   "execution_count": 8,
   "id": "3685a730",
   "metadata": {},
   "outputs": [],
   "source": [
    "X_train_processed, y_train, X_test_processed, y_test = preprocess_data(df_train, df_test)"
   ]
  },
  {
   "cell_type": "code",
   "execution_count": 9,
   "id": "111e2104",
   "metadata": {},
   "outputs": [
    {
     "data": {
      "text/plain": [
       "((32561, 108), (32561,), (16281, 108), (16281,))"
      ]
     },
     "execution_count": 9,
     "metadata": {},
     "output_type": "execute_result"
    }
   ],
   "source": [
    "X_train_processed.shape, y_train.shape, X_test_processed.shape, y_test.shape"
   ]
  },
  {
   "cell_type": "code",
   "execution_count": 10,
   "id": "ace7cba4",
   "metadata": {},
   "outputs": [],
   "source": [
    "from sklearn.model_selection import train_test_split\n",
    "\n",
    "X_train_processed, X_val_processed, y_train, y_val = train_test_split(X_train_processed, y_train, test_size=0.2, random_state=42)\n"
   ]
  },
  {
   "cell_type": "code",
   "execution_count": 11,
   "id": "f3b6da3a",
   "metadata": {},
   "outputs": [
    {
     "data": {
      "text/plain": [
       "((6513, 108), (6513,))"
      ]
     },
     "execution_count": 11,
     "metadata": {},
     "output_type": "execute_result"
    }
   ],
   "source": [
    "X_val_processed.shape, y_val.shape"
   ]
  },
  {
   "cell_type": "code",
   "execution_count": null,
   "id": "60728079",
   "metadata": {},
   "outputs": [],
   "source": []
  }
 ],
 "metadata": {
  "kernelspec": {
   "display_name": "uv",
   "language": "python",
   "name": "python3"
  },
  "language_info": {
   "codemirror_mode": {
    "name": "ipython",
    "version": 3
   },
   "file_extension": ".py",
   "mimetype": "text/x-python",
   "name": "python",
   "nbconvert_exporter": "python",
   "pygments_lexer": "ipython3",
   "version": "3.13.6"
  }
 },
 "nbformat": 4,
 "nbformat_minor": 5
}
