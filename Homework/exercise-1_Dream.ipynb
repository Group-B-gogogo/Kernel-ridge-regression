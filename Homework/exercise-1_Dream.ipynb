{
 "cells": [
  {
   "cell_type": "markdown",
   "metadata": {},
   "source": [
    "# $$\\textbf{TU Berlin Summer School 2025}$$\n",
    "\n",
    "<br>\n",
    "\n",
    "<center>\n",
    "<img src='../storage/images/logo.png' width=900>\n",
    "</center>\n",
    "\n",
    "<br>\n",
    "\n",
    "## $$\\textbf{Exercise Session: Basics of Python Programming}$$ 🐍💻\n",
    "\n",
    "### $\\textbf{Welcome to Your First Python Challenge!}$ 🚀\n",
    "\n",
    "*Today you'll build a complete health risk prediction system using pure Python!* ✨"
   ]
  },
  {
   "cell_type": "code",
   "execution_count": 33,
   "metadata": {
    "jupyter": {
     "is_executing": true
    }
   },
   "outputs": [],
   "source": [
    "# 📝 Enter your name here - this helps us track your progress!\n",
    "YOUR_NAME = \"Dream\"  # Replace with your actual name"
   ]
  },
  {
   "cell_type": "code",
   "execution_count": 34,
   "metadata": {
    "jupyter": {
     "is_executing": true
    }
   },
   "outputs": [
    {
     "name": "stdout",
     "output_type": "stream",
     "text": [
      "✨ Great! You're running Python 3.12 - you're all set!\n"
     ]
    }
   ],
   "source": [
    "# ✅ Version check - making sure you have the right Python version!\n",
    "import sys\n",
    "assert sys.version_info >= (3,10), 'You need to be running at least Python version 3.10'\n",
    "print(f\"✨ Great! You're running Python {sys.version_info.major}.{sys.version_info.minor} - you're all set!\")"
   ]
  },
  {
   "cell_type": "code",
   "execution_count": 35,
   "metadata": {
    "deletable": false,
    "editable": false,
    "nbgrader": {
     "cell_type": "code",
     "checksum": "ceab7df278e53ab5f4b793057774a901",
     "grade": true,
     "grade_id": "cell-e5951c7ec892701b",
     "locked": true,
     "points": 0,
     "schema_version": 3,
     "solution": false,
     "task": false
    }
   },
   "outputs": [
    {
     "name": "stdout",
     "output_type": "stream",
     "text": [
      "🔧 Testing framework loaded successfully!\n"
     ]
    }
   ],
   "source": [
    "# 🧪 Testing setup - This cell is for grading. DO NOT remove it!\n",
    "\n",
    "# Use unittest asserts for automatic testing\n",
    "import unittest; t = unittest.TestCase()\n",
    "from pprint import pprint  # Pretty printing for better output display\n",
    "\n",
    "# 📊 Helper function to validate percentage values (0.0 to 1.0)\n",
    "def assert_percentage(val):\n",
    "    \"\"\"Ensures a value is a valid percentage between 0 and 1\"\"\"\n",
    "    t.assertGreaterEqual(val, 0.0, f'Percentage ({val}) cannot be < 0')\n",
    "    t.assertLessEqual(val, 1.0, f'Percentage ({val}) cannot be > 1')\n",
    "    \n",
    "print(\"🔧 Testing framework loaded successfully!\")\n",
    "    "
   ]
  },
  {
   "cell_type": "markdown",
   "metadata": {
    "deletable": false,
    "editable": false,
    "nbgrader": {
     "cell_type": "markdown",
     "checksum": "6e924a8efe0e69f06915151283945546",
     "grade": false,
     "grade_id": "cell-b2b789b02a0b4bf0",
     "locked": true,
     "schema_version": 3,
     "solution": false,
     "task": false
    }
   },
   "source": [
    "# 📋 Exercise Sheet 1: Python Basics 🐍\n",
    "\n",
    "## $\\textbf{Health Risk Prediction Challenge}$ 🏥\n",
    "\n",
    "This first exercise sheet tests the basic functionalities of the Python programming language in the context of a **real-world prediction task**. We consider the problem of predicting health risk of subjects from personal data and habits. \n",
    "\n",
    "### $\\textbf{Our Decision Tree}$ 🌳\n",
    "\n",
    "The decision tree below will guide our predictions:\n",
    "\n",
    "![](../storage/images/2_day/tree.png)\n",
    "\n",
    "### $\\textbf{Important Rules}$ 📝\n",
    "\n",
    "**For this exercise sheet, you are required to use only pure Python!** \n",
    "- ❌ No external modules (including `NumPy`)\n",
    "- ✅ Only built-in Python functions and methods\n",
    "- 🚀 Next time we'll implement the nearest neighbor part using `NumPy`!\n",
    "\n",
    "*This approach helps you understand the fundamentals before using powerful libraries!* 💪"
   ]
  },
  {
   "cell_type": "markdown",
   "metadata": {
    "deletable": false,
    "editable": false,
    "nbgrader": {
     "cell_type": "markdown",
     "checksum": "4f564e12d46d132b419ae75e9a1b1f46",
     "grade": false,
     "grade_id": "cell-33557bd5b8af8865",
     "locked": true,
     "schema_version": 3,
     "solution": false,
     "task": false
    }
   },
   "source": [
    "## 🎯 **Task 1: Classifying a Single Instance** (15 Points)\n",
    "\n",
    "### $\\textbf{What You'll Learn}$ 📚\n",
    "- Working with **tuples** to represent structured data\n",
    "- Implementing **conditional logic** (if/else statements)\n",
    "- Following a **decision tree algorithm**\n",
    "\n",
    "### $\\textbf{Your Mission}$ 🎯\n",
    "\n",
    "**Patient Data Format:** We represent patient info as a tuple: `(smoker, age, diet)`\n",
    "\n",
    "**Your Task:** \n",
    "- Implement the function `decision()` that takes a patient tuple as input\n",
    "- Follow the decision tree logic from the image above\n",
    "- Return either `'less'` or `'more'` (health risk level)\n",
    "- ⚠️ **Important:** Only these two outputs are valid!\n",
    "\n",
    "*Think step by step through the decision tree - smoker status first, then age, then diet!* 🤔"
   ]
  },
  {
   "cell_type": "code",
   "execution_count": 36,
   "metadata": {
    "deletable": false,
    "nbgrader": {
     "cell_type": "code",
     "checksum": "756c7890dc2fe45e0ba273bc00e8efa3",
     "grade": false,
     "grade_id": "cell-b66d7278bc313c94",
     "locked": false,
     "schema_version": 3,
     "solution": true
    }
   },
   "outputs": [
    {
     "name": "stdout",
     "output_type": "stream",
     "text": [
      "more\n",
      "less\n"
     ]
    }
   ],
   "source": [
    "def decision(x: tuple) -> str:\n",
    "    '''\n",
    "    🌳 This function implements the decision tree represented in the above image. \n",
    "    \n",
    "    📊 Decision Logic:\n",
    "    1. Check if patient is a smoker\n",
    "    2. If smoker: check age (≥30 → 'more', <30 → check diet)\n",
    "    3. If non-smoker: always 'less'\n",
    "    4. For young smokers: good diet → 'less', poor diet → 'more'\n",
    "    \n",
    "    Args:\n",
    "        x (tuple): Input tuple containing exactly three values:\n",
    "            - x[0] (str): Smoker status - 'yes' means smoker, any other value means non-smoker\n",
    "            - x[1] (int): Age of patient in years  \n",
    "            - x[2] (str): Diet quality - 'good' means good diet, any other value means poor diet\n",
    "            \n",
    "    Returns:\n",
    "        str: Either 'more' or 'less' representing health risk level\n",
    "        \n",
    "    Example:\n",
    "        >>> decision(('yes', 35, 'good'))\n",
    "        'more'\n",
    "        >>> decision(('no', 25, 'poor'))  \n",
    "        'less'\n",
    "    '''\n",
    "    # 🔍 Extract patient information from tuple\n",
    "    smoker, age, diet = x\n",
    "    \n",
    "    # YOUR CODE HERE - Follow the decision tree logic!\n",
    "    # Hint: Start with checking if the patient is a smoker\n",
    "    # Then check age and diet as needed\n",
    "    if smoker == 'yes':\n",
    "        if age >= 29.5:\n",
    "            return 'more'\n",
    "        else:\n",
    "            if diet == 'good':\n",
    "                return 'less'\n",
    "            else:\n",
    "                return 'more'\n",
    "    else:\n",
    "        return 'less'\n",
    "    # YOUR CODE HERE\n",
    "print(decision(('yes', 35, 'good')))\n",
    "print(decision(('no', 25, 'poor')))\n"
   ]
  },
  {
   "cell_type": "code",
   "execution_count": 37,
   "metadata": {
    "deletable": false,
    "editable": false,
    "nbgrader": {
     "cell_type": "code",
     "checksum": "9cd2981954ceab1ad21b8866d2a97021",
     "grade": true,
     "grade_id": "cell-c31b80471db3132f",
     "locked": true,
     "points": 15,
     "schema_version": 3,
     "solution": false
    }
   },
   "outputs": [
    {
     "name": "stdout",
     "output_type": "stream",
     "text": [
      "🔬 Testing decision function...\n",
      "✅ Test 1: decision(('yes', 31, 'good')) --> more\n",
      "✅ Test 2: decision(('yes', 29, 'poor')) --> more\n",
      "🎉 All tests passed! Your decision function is working correctly!\n"
     ]
    }
   ],
   "source": [
    "# 🧪 Test your decision function - let's see if it works!\n",
    "\n",
    "print(\"🔬 Testing decision function...\")\n",
    "\n",
    "# Test case 1: Expected 'more' (smoker, age ≥30)\n",
    "x = ('yes', 31, 'good')\n",
    "output = decision(x)\n",
    "print(f'✅ Test 1: decision({x}) --> {output}')\n",
    "t.assertIsInstance(output, str)\n",
    "t.assertEqual(output, 'more')\n",
    "\n",
    "# Test case 2: Expected 'less' (young smoker with poor diet... wait, that should be 'more'!)\n",
    "x = ('yes', 29, 'poor')\n",
    "output = decision(x)\n",
    "print(f'✅ Test 2: decision({x}) --> {output}')\n",
    "t.assertIsInstance(output, str)\n",
    "t.assertEqual(output, 'more')  # 🔧 Fixed: young smoker with poor diet = 'more' risk\n",
    "\n",
    "print(\"🎉 All tests passed! Your decision function is working correctly!\")\n"
   ]
  },
  {
   "cell_type": "markdown",
   "metadata": {
    "deletable": false,
    "editable": false,
    "nbgrader": {
     "cell_type": "markdown",
     "checksum": "01fc86ffb048b4c11a92662a3b96edda",
     "grade": false,
     "grade_id": "cell-f99e2c2efcd83d8e",
     "locked": true,
     "schema_version": 3,
     "solution": false,
     "task": false
    }
   },
   "source": [
    "## 📁 **Task 2: Reading a Dataset from a Text File** (10 Points)\n",
    "\n",
    "### $\\textbf{What You'll Learn}$ 📚\n",
    "- **File I/O operations** in Python\n",
    "- **String processing** and data parsing  \n",
    "- **List comprehensions** and data transformation\n",
    "- **Error handling** and proper file management\n",
    "\n",
    "### $\\textbf{Your Mission}$ 🎯\n",
    "\n",
    "The file `health-test.txt` located in `../storage/data/health/` contains several fictitious records of personal data and habits. \n",
    "\n",
    "**We split this task into two parts:**\n",
    "1. **Part A:** Process a single line from the file\n",
    "2. **Part B:** Load the entire file and process all lines\n",
    "\n",
    "### $\\textbf{Requirements}$ ✅\n",
    "- Read the file automatically using Python file methods\n",
    "- Represent the dataset as a **list of tuples** \n",
    "- Ensure tuples have the same format: `('yes', 31, 'good')`\n",
    "- **Always close the file** after reading (use `with` statement!)\n",
    "\n",
    "### $\\textbf{Important Notes}$ ⚠️\n",
    "- 📝 **Values from files are always strings** - you'll need to convert age to `int`\n",
    "- 🔚 **Each line ends with `\\n`** - remember to strip it!\n",
    "- 💻 **Windows users:** Don't use Notepad (it removes linebreaks `\\n`)\n",
    "- 📋 **Use Jupyter text editor** or modern editors to inspect files\n",
    "\n",
    "*File processing is a fundamental skill in data science!* 💡"
   ]
  },
  {
   "cell_type": "code",
   "execution_count": 38,
   "metadata": {
    "deletable": false,
    "nbgrader": {
     "cell_type": "code",
     "checksum": "ede25b1c5d5d92c3617b98020fa50cd6",
     "grade": false,
     "grade_id": "cell-c1a8bc4c0e4ccb26",
     "locked": false,
     "schema_version": 3,
     "solution": true
    }
   },
   "outputs": [
    {
     "data": {
      "text/plain": [
       "('yes', 31, 'good')"
      ]
     },
     "execution_count": 38,
     "metadata": {},
     "output_type": "execute_result"
    }
   ],
   "source": [
    "def parse_line_test(line: str) -> tuple:\n",
    "    '''\n",
    "    📝 Takes a line from the file and parses it into a patient tuple.\n",
    "    \n",
    "    🔍 Step-by-step process:\n",
    "    1. Remove the newline character (\\n) from the end\n",
    "    2. Split the line by commas to get individual values\n",
    "    3. Convert age (middle value) from string to integer\n",
    "    4. Return as tuple in format: (smoker, age, diet)\n",
    "    \n",
    "    Args:\n",
    "        line (str): A line from the `health-test.txt` file (e.g., \"yes,31,good\\n\")\n",
    "        \n",
    "    Returns:\n",
    "        tuple: A patient tuple (smoker_str, age_int, diet_str)\n",
    "        \n",
    "    Example:\n",
    "        >>> parse_line_test(\"yes,31,good\\n\")\n",
    "        ('yes', 31, 'good')\n",
    "    '''\n",
    "    # YOUR CODE HERE\n",
    "    # Step 1: Remove newline character\n",
    "    line = line.strip()\n",
    "    \n",
    "    # Step 2: Split by commas\n",
    "    parts = line.split(',')\n",
    "    \n",
    "    # Step 3: Convert age to integer\n",
    "    smoker = parts[0]\n",
    "    age = int(parts[1])\n",
    "    diet = parts[2]\n",
    "    \n",
    "    # Step 4: Return as tuple\n",
    "    return (smoker, age, diet)\n",
    "    # YOUR CODE HERE\n",
    "parse_line_test(\"yes,31,good\\n\")"
   ]
  },
  {
   "cell_type": "code",
   "execution_count": 39,
   "metadata": {
    "deletable": false,
    "editable": false,
    "nbgrader": {
     "cell_type": "code",
     "checksum": "91373160b4904892fef167647139dcb6",
     "grade": true,
     "grade_id": "cell-4e1f7ad1e66b3121",
     "locked": true,
     "points": 5,
     "schema_version": 3,
     "solution": false
    }
   },
   "outputs": [
    {
     "name": "stdout",
     "output_type": "stream",
     "text": [
      "🔬 Testing parse_line_test function...\n",
      "📊 Input: 'yes,23,good\\n'\n",
      "✅ Output: ('yes', 23, 'good')\n",
      "🎉 Line parsing test passed! Your function works correctly!\n"
     ]
    }
   ],
   "source": [
    "# 🧪 Test your line parsing function\n",
    "\n",
    "print(\"🔬 Testing parse_line_test function...\")\n",
    "\n",
    "x = 'yes,23,good\\n'  # Sample line with newline character\n",
    "parsed_line = parse_line_test(x)\n",
    "print(f\"📊 Input: '{x.strip()}\\\\n'\")\n",
    "print(f\"✅ Output: {parsed_line}\")\n",
    "\n",
    "# Verify the output format\n",
    "t.assertIsInstance(parsed_line, tuple)\n",
    "t.assertEqual(len(parsed_line), 3)\n",
    "t.assertIsInstance(parsed_line[1], int)  # Age should be integer\n",
    "t.assertNotIn('\\n', parsed_line[-1], 'Are you handling line breaks correctly?')\n",
    "t.assertEqual(parsed_line[-1], 'good')\n",
    "\n",
    "print(\"🎉 Line parsing test passed! Your function works correctly!\")\n"
   ]
  },
  {
   "cell_type": "code",
   "execution_count": 40,
   "metadata": {
    "deletable": false,
    "nbgrader": {
     "cell_type": "code",
     "checksum": "0851542d2949034027f05c7d195ecdb4",
     "grade": false,
     "grade_id": "cell-844c38f934d4a3ef",
     "locked": false,
     "schema_version": 3,
     "solution": true,
     "task": false
    }
   },
   "outputs": [
    {
     "name": "stdout",
     "output_type": "stream",
     "text": [
      "8\n",
      "('yes', 21, 'poor')\n"
     ]
    }
   ],
   "source": [
    "def gettest() -> list:\n",
    "    '''\n",
    "    📂 Opens the `health-test.txt` file and parses it into a list of patient tuples.\n",
    "    \n",
    "    🔄 Recommended approach:\n",
    "    1. Use 'with open()' statement for safe file handling\n",
    "    2. Read all lines from the file\n",
    "    3. Use parse_line_test() function to process each line\n",
    "    4. Return list of all parsed patient tuples\n",
    "    \n",
    "    💡 You're encouraged to use the `parse_line_test` function, but it's not mandatory.\n",
    "    \n",
    "    Returns:\n",
    "        list: A list of patient tuples, e.g., [('yes', 31, 'good'), ('no', 25, 'poor'), ...]\n",
    "        \n",
    "    Example:\n",
    "        >>> data = gettest()\n",
    "        >>> print(len(data))  # Should show 8 patients\n",
    "        >>> print(data[0])    # First patient tuple\n",
    "    '''\n",
    "    # YOUR CODE HERE\n",
    "    # Step 1: Open the file safely\n",
    "    with open('D:\\\\german\\\\Application-Scenarios-for-AI\\\\storage\\\\data\\\\health\\\\health-test.txt', 'r') as file:\n",
    "        # Step 2: Read all lines\n",
    "        lines = file.readlines()\n",
    "        \n",
    "    # Step 3: Parse each line using parse_line_test\n",
    "    patients = [parse_line_test(line) for line in lines]\n",
    "    \n",
    "    # Step 4: Return the list of patient tuples\n",
    "    return patients\n",
    "    # YOUR CODE HERE\n",
    "data = gettest()\n",
    "print(len(data))\n",
    "print(data[0])\n",
    "    "
   ]
  },
  {
   "cell_type": "code",
   "execution_count": 41,
   "metadata": {
    "deletable": false,
    "editable": false,
    "nbgrader": {
     "cell_type": "code",
     "checksum": "3272a62886b113d328e28dede8f89973",
     "grade": true,
     "grade_id": "cell-ab1b01fcaac26cd5",
     "locked": true,
     "points": 5,
     "schema_version": 3,
     "solution": false,
     "task": false
    }
   },
   "outputs": [
    {
     "name": "stdout",
     "output_type": "stream",
     "text": [
      "[('yes', 21, 'poor'),\n",
      " ('no', 50, 'good'),\n",
      " ('no', 23, 'good'),\n",
      " ('yes', 45, 'poor'),\n",
      " ('yes', 51, 'good'),\n",
      " ('no', 60, 'good'),\n",
      " ('no', 15, 'poor'),\n",
      " ('no', 18, 'good')]\n"
     ]
    }
   ],
   "source": [
    "testset = gettest()\n",
    "pprint(testset)\n",
    "t.assertIsInstance(testset, list)\n",
    "t.assertEqual(len(testset), 8)\n",
    "t.assertIsInstance(testset[0], tuple)\n"
   ]
  },
  {
   "cell_type": "markdown",
   "metadata": {},
   "source": [
    "## 📊 **Task 3: Applying the Decision Tree to the Dataset** (15 Points)\n",
    "\n",
    "### $\\textbf{What You'll Learn}$ 📚\n",
    "- **Iterating over datasets** with loops\n",
    "- **Calculating percentages** and ratios\n",
    "- **Applying functions** to multiple data points\n",
    "- **Statistical analysis** of classification results\n",
    "\n",
    "### $\\textbf{Your Mission}$ 🎯\n",
    "\n",
    "**Apply the decision tree to ALL patients in the dataset:**\n",
    "- Use your `decision()` function on each patient tuple\n",
    "- Count how many are classified as `\"more\"` (high risk)\n",
    "- Return the **ratio** (percentage as decimal) of high-risk patients\n",
    "\n",
    "### $\\textbf{Understanding Ratios}$ 🧮\n",
    "A ratio is a value in **[0-1]** representing the fraction of total cases:\n",
    "- 📈 **Example:** Out of 50 patients, 15 are classified as `\"more\"`\n",
    "- 🔢 **Calculation:** 15 ÷ 50 = 0.3 (30% high risk)\n",
    "- ✅ **Return:** `0.3`\n",
    "\n",
    "*This gives us insight into the overall health risk distribution in our dataset!* 💡"
   ]
  },
  {
   "cell_type": "code",
   "execution_count": 42,
   "metadata": {
    "deletable": false,
    "nbgrader": {
     "cell_type": "code",
     "checksum": "2401d5533c3dd958bde4bbf632815bbc",
     "grade": false,
     "grade_id": "cell-6703ef98e2b5c93b",
     "locked": false,
     "schema_version": 3,
     "solution": true
    }
   },
   "outputs": [],
   "source": [
    "def evaluate_testset(dataset: list) -> float:\n",
    "    '''\n",
    "    📊 Calculates the percentage of patients classified as 'more' (high risk).\n",
    "    \n",
    "    🔄 Algorithm:\n",
    "    1. Initialize counter for 'more' classifications\n",
    "    2. Loop through each patient in the dataset\n",
    "    3. Apply decision() function to each patient\n",
    "    4. Count how many return 'more'\n",
    "    5. Calculate ratio: count_more / total_patients\n",
    "    \n",
    "    Args:\n",
    "        dataset (list): A list of patient tuples, e.g., [('yes', 31, 'good'), ...]\n",
    "    \n",
    "    Returns:\n",
    "        float: The ratio (0.0 to 1.0) of patients classified as 'more'\n",
    "        \n",
    "    Example:\n",
    "        >>> data = [('yes', 35, 'good'), ('no', 25, 'poor'), ('yes', 40, 'poor')]\n",
    "        >>> evaluate_testset(data)\n",
    "        0.6667  # 2 out of 3 patients are 'more'\n",
    "    '''\n",
    "    # YOUR CODE HERE\n",
    "    count_more = 0\n",
    "    total_patients = len(dataset)\n",
    "    \n",
    "    for patient in dataset:\n",
    "        if decision(patient) == 'more':\n",
    "            count_more += 1\n",
    "            \n",
    "    # Calculate the ratio\n",
    "    ratio = count_more / total_patients if total_patients > 0 else 0.0\n",
    "    \n",
    "    # Validate the ratio is a percentage (0.0 to 1.0)\n",
    "    assert_percentage(ratio)\n",
    "    \n",
    "    return ratio\n",
    "    # YOUR CODE HERE\n",
    "    "
   ]
  },
  {
   "cell_type": "code",
   "execution_count": 43,
   "metadata": {
    "deletable": false,
    "editable": false,
    "nbgrader": {
     "cell_type": "code",
     "checksum": "0ba540cbd6fbf6d1184b4a4114387abb",
     "grade": true,
     "grade_id": "cell-c13a0b23c9faba52",
     "locked": true,
     "points": 15,
     "schema_version": 3,
     "solution": false
    }
   },
   "outputs": [
    {
     "name": "stdout",
     "output_type": "stream",
     "text": [
      "ratio --> 0.375\n"
     ]
    }
   ],
   "source": [
    "ratio = evaluate_testset(gettest())\n",
    "print(f'ratio --> {ratio}')\n",
    "t.assertIsInstance(ratio, float)\n",
    "assert_percentage(ratio)\n"
   ]
  },
  {
   "cell_type": "markdown",
   "metadata": {},
   "source": [
    "## 🧠 **Task 4: Learning from Examples** (10 Points)\n",
    "\n",
    "### $\\textbf{What You'll Learn}$ 📚\n",
    "- **Supervised learning** concepts\n",
    "- **Training data** vs. test data  \n",
    "- **Data structure design** for machine learning\n",
    "- **Expert-labeled datasets** and their importance\n",
    "\n",
    "### $\\textbf{The Data-Driven Approach}$ 🎯\n",
    "\n",
    "Instead of relying on a fixed decision tree, let's use a **data-driven approach** where classifications are based on training examples manually labeled by medical experts! 👩‍⚕️👨‍⚕️\n",
    "\n",
    "### $\\textbf{About the Training Data}$ 📋\n",
    "\n",
    "**File:** `health-train.txt` contains expert-labeled patient data\n",
    "- **First 3 columns:** Same as `health-test.txt` (smoker, age, diet)  \n",
    "- **Last column:** Expert label (`'more'` or `'less'`)\n",
    "- **Purpose:** Train our machine learning models!\n",
    "\n",
    "### $\\textbf{Your Mission}$ 🎯\n",
    "\n",
    "**Convert the file into a list of pairs:**\n",
    "- **Pair structure:** `(patient_tuple, label)`\n",
    "- **Patient tuple:** `(smoker, age, diet)` - the attributes  \n",
    "- **Label:** `'more'` or `'less'` - expert classification\n",
    "\n",
    "**Two-part approach:**\n",
    "1. **Part A:** Process individual lines  \n",
    "2. **Part B:** Load and process entire file\n",
    "\n",
    "### $\\textbf{Data Structure Guide}$ 📊\n",
    "- 🔹 **Triplet:** Tuple with exactly 3 values `(a, b, c)`\n",
    "- 🔹 **Pair:** Tuple with exactly 2 values `(x, y)`\n",
    "- 🔹 **Our format:** `((smoker, age, diet), label)`\n",
    "\n",
    "*This is how real machine learning datasets are structured!* 💡"
   ]
  },
  {
   "cell_type": "code",
   "execution_count": 44,
   "metadata": {
    "deletable": false,
    "nbgrader": {
     "cell_type": "code",
     "checksum": "f47d064d7cc48ce03719c60e817fb174",
     "grade": false,
     "grade_id": "cell-fc38ed11fee6fbeb",
     "locked": false,
     "schema_version": 3,
     "solution": true
    }
   },
   "outputs": [],
   "source": [
    "def parse_line_train(line: str) -> tuple:\n",
    "    '''\n",
    "    This function works similarly to the `parse_line_test` function.\n",
    "    It parses a line of the `health-train.txt` file into a tuple that \n",
    "    contains a patient tuple and a label.\n",
    "    \n",
    "    Args:\n",
    "        line (str): A line from the `health-train.txt`\n",
    "    \n",
    "    Returns: \n",
    "        tuple: A tuple that contains a patient tuple and a label as a string\n",
    "    '''\n",
    "    # YOUR CODE HERE\n",
    "    # Step 1: Remove newline character\n",
    "    line = line.strip()\n",
    "    # Step 2: Split by commas\n",
    "    parts = line.split(',')\n",
    "    # Step 3: Convert age to integer\n",
    "    smoker = parts[0]\n",
    "    age = int(parts[1])\n",
    "    diet = parts[2]\n",
    "    label = parts[3]  # The label is the last part\n",
    "    # Step 4: Return as tuple\n",
    "    return (smoker, age, diet), label\n",
    "    # YOUR CODE HERE\n",
    "    "
   ]
  },
  {
   "cell_type": "code",
   "execution_count": 45,
   "metadata": {
    "deletable": false,
    "editable": false,
    "nbgrader": {
     "cell_type": "code",
     "checksum": "64965f61a9992fcaca5ed21793a98b40",
     "grade": true,
     "grade_id": "cell-b97620858b167c0d",
     "locked": true,
     "points": 5,
     "schema_version": 3,
     "solution": false,
     "task": false
    }
   },
   "outputs": [
    {
     "name": "stdout",
     "output_type": "stream",
     "text": [
      "(('yes', 67, 'poor'), 'more')\n"
     ]
    }
   ],
   "source": [
    "x = 'yes,67,poor,more\\n'\n",
    "parsed_line = parse_line_train(x)\n",
    "print(parsed_line)\n",
    "\n",
    "t.assertIsInstance(parsed_line, tuple)\n",
    "t.assertEqual(len(parsed_line), 2)\n",
    "\n",
    "data, label = parsed_line\n",
    "\n",
    "t.assertIsInstance(data, tuple)\n",
    "t.assertEqual(len(data), 3)\n",
    "t.assertEqual(data[1], 67)\n",
    "\n",
    "t.assertIsInstance(label, str)\n",
    "t.assertNotIn('\\n', label, 'Are you handling line breaks correctly?')\n",
    "t.assertEqual(label, 'more')\n"
   ]
  },
  {
   "cell_type": "code",
   "execution_count": 46,
   "metadata": {
    "deletable": false,
    "nbgrader": {
     "cell_type": "code",
     "checksum": "68e6844ec2f76111c00fe137e2ca2560",
     "grade": false,
     "grade_id": "cell-183f0bbeecd179c4",
     "locked": false,
     "schema_version": 3,
     "solution": true,
     "task": false
    }
   },
   "outputs": [],
   "source": [
    "def gettrain() -> list:\n",
    "    '''\n",
    "    Opens the `health-train.txt` file and parses it into \n",
    "    a list of patient tuples accompanied by their respective label. \n",
    "    \n",
    "    Returns:\n",
    "        list: A list of tuples comprised of a patient tuple and a label\n",
    "    '''\n",
    "    # YOUR CODE HERE\n",
    "    # Step 1: Open the file safely\n",
    "    with open('D:\\\\german\\\\Application-Scenarios-for-AI\\\\storage\\\\data\\\\health\\\\health-train.txt', 'r') as file:\n",
    "        # Step 2: Read all lines\n",
    "        lines = file.readlines()\n",
    "    # Step 3: Parse each line using parse_line_train\n",
    "    patients = [parse_line_train(line) for line in lines]\n",
    "    # Step 4: Return the list of patient tuples with labels\n",
    "    return patients\n",
    "    # YOUR CODE HERE\n",
    "    "
   ]
  },
  {
   "cell_type": "code",
   "execution_count": 47,
   "metadata": {
    "deletable": false,
    "editable": false,
    "nbgrader": {
     "cell_type": "code",
     "checksum": "00f87b6b544cb271be54229ddb60b58c",
     "grade": true,
     "grade_id": "cell-a3d593f232e0403a",
     "locked": true,
     "points": 5,
     "schema_version": 3,
     "solution": false
    }
   },
   "outputs": [
    {
     "name": "stdout",
     "output_type": "stream",
     "text": [
      "[(('yes', 54, 'good'), 'less'),\n",
      " (('no', 55, 'good'), 'less'),\n",
      " (('no', 26, 'good'), 'less'),\n",
      " (('yes', 40, 'good'), 'more'),\n",
      " (('yes', 25, 'poor'), 'less'),\n",
      " (('no', 13, 'poor'), 'more'),\n",
      " (('no', 15, 'good'), 'less'),\n",
      " (('no', 50, 'poor'), 'more'),\n",
      " (('yes', 33, 'good'), 'more'),\n",
      " (('no', 35, 'good'), 'less'),\n",
      " (('no', 41, 'good'), 'less'),\n",
      " (('yes', 30, 'poor'), 'more'),\n",
      " (('no', 39, 'poor'), 'more'),\n",
      " (('no', 20, 'good'), 'less'),\n",
      " (('yes', 18, 'poor'), 'less'),\n",
      " (('yes', 55, 'good'), 'more')]\n"
     ]
    }
   ],
   "source": [
    "trainset = gettrain()\n",
    "pprint(trainset)\n",
    "t.assertIsInstance(trainset, list)\n",
    "t.assertEqual(len(trainset), 16)\n",
    "first_datapoint = trainset[0]\n",
    "t.assertIsInstance(first_datapoint, tuple)\n",
    "t.assertIsInstance(first_datapoint[0], tuple)\n",
    "t.assertIsInstance(first_datapoint[1], str)"
   ]
  },
  {
   "cell_type": "markdown",
   "metadata": {},
   "source": [
    "## 🎯 **Task 5: Nearest Neighbor Classifier** (25 Points)\n",
    "\n",
    "### $\\textbf{What You'll Learn}$ 📚\n",
    "- **Distance metrics** and similarity measures\n",
    "- **Nearest neighbor algorithm** (k-NN with k=1)\n",
    "- **Classification by similarity** \n",
    "- **Algorithmic thinking** and optimization\n",
    "\n",
    "### $\\textbf{The Nearest Neighbor Concept}$ 🔍\n",
    "\n",
    "The **nearest neighbor algorithm** classifies test points by finding the most similar example in the training data and using its label! \n",
    "\n",
    "**How it works:** 🔄\n",
    "1. Calculate distance from test point to ALL training points\n",
    "2. Find the training point with **minimum distance**\n",
    "3. Return the label of that nearest neighbor\n",
    "\n",
    "📖 **Learn more:** [Nearest Neighbor Classifiers](http://www.robots.ox.ac.uk/~dclaus/digits/neighbour.htm)\n",
    "\n",
    "### $\\textbf{Our Distance Function}$ 📏\n",
    "\n",
    "We need to measure similarity between patients. Our custom distance formula:\n",
    "\n",
    "```python\n",
    "distance(a, b) = (a[0] != b[0]) + ((a[1] - b[1]) / 50.0) ** 2 + (a[2] != b[2])\n",
    "```\n",
    "\n",
    "**Where `a` and `b` are patient tuples** (smoker, age, diet)\n",
    "\n",
    "### $\\textbf{Understanding the Formula}$ 🧮\n",
    "- **`(a[0] != b[0])`:** Smoker difference (0 if same, 1 if different)\n",
    "- **`((a[1] - b[1]) / 50.0) ** 2`:** Age difference (normalized and squared)\n",
    "- **`(a[2] != b[2])`:** Diet difference (0 if same, 1 if different)\n",
    "\n",
    "### $\\textbf{Your Mission}$ 🎯\n",
    "\n",
    "1. **Implement the distance function** between two patients\n",
    "2. **Implement the neighbor function** that finds the closest training example\n",
    "\n",
    "### $\\textbf{Pro Tip}$ 💡\n",
    "You can use `float('inf')` for infinity when tracking minimum distances!\n",
    "\n",
    "*Nearest neighbor is one of the simplest yet powerful machine learning algorithms!* ✨"
   ]
  },
  {
   "cell_type": "code",
   "execution_count": 48,
   "metadata": {
    "deletable": false,
    "nbgrader": {
     "cell_type": "code",
     "checksum": "755377e3598f8bcb5f8295052bf01b7e",
     "grade": false,
     "grade_id": "cell-671ea24ec8a11241",
     "locked": false,
     "schema_version": 3,
     "solution": true
    }
   },
   "outputs": [],
   "source": [
    "def distance(a: tuple, b: tuple) -> float:\n",
    "    '''\n",
    "    📏 Calculates the distance between two patient tuples using our custom formula.\n",
    "    \n",
    "    🔢 Formula breakdown:\n",
    "    - Smoker difference: (a[0] != b[0]) → 0 if same, 1 if different\n",
    "    - Age difference: ((a[1] - b[1]) / 50.0) ** 2 → normalized squared difference  \n",
    "    - Diet difference: (a[2] != b[2]) → 0 if same, 1 if different\n",
    "    \n",
    "    💡 Why this formula?\n",
    "    - Categorical differences (smoker, diet) contribute 0 or 1\n",
    "    - Age difference is normalized by 50 to prevent dominance\n",
    "    - Squared age difference penalizes larger age gaps more\n",
    "    \n",
    "    Args:\n",
    "        a, b (tuple): Two patient tuples (smoker, age, diet) for distance calculation\n",
    "        \n",
    "    Returns:\n",
    "        float: The distance between patients a and b\n",
    "        \n",
    "    Example:\n",
    "        >>> distance(('yes', 30, 'good'), ('yes', 40, 'poor'))\n",
    "        1.04  # Same smoker status (0) + age diff (0.04) + different diet (1)\n",
    "    '''\n",
    "    # YOUR CODE HERE\n",
    "    # Calculate smoker difference (0 if same, 1 if different)\n",
    "    smoker_diff = 0 if a[0] == b[0] else 1\n",
    "    # Calculate age difference (normalized and squared)\n",
    "    age_diff = ((a[1] - b[1]) / 50.0) ** 2\n",
    "    # Calculate diet difference (0 if same, 1 if different)\n",
    "    diet_diff = 0 if a[2] == b[2] else 1\n",
    "    # Return the total distance\n",
    "    return smoker_diff + age_diff + diet_diff\n",
    "    # YOUR CODE HERE\n",
    "    "
   ]
  },
  {
   "cell_type": "code",
   "execution_count": 49,
   "metadata": {
    "deletable": false,
    "editable": false,
    "nbgrader": {
     "cell_type": "code",
     "checksum": "ffa854e72a9e3ed22c91490d63c67515",
     "grade": true,
     "grade_id": "cell-5929fce6ffc8ca0f",
     "locked": true,
     "points": 5,
     "schema_version": 3,
     "solution": false,
     "task": false
    }
   },
   "outputs": [
    {
     "name": "stdout",
     "output_type": "stream",
     "text": [
      "distance(('yes', 34, 'poor'), ('yes', 51, 'good')) --> 1.1156\n"
     ]
    }
   ],
   "source": [
    "# Test distance\n",
    "x1 = ('yes', 34, 'poor')\n",
    "x2 = ('yes', 51, 'good')\n",
    "dist = distance(x1, x2)\n",
    "print(f'distance({x1}, {x2}) --> {dist}')\n",
    "expected_dist = 1.1156\n",
    "t.assertAlmostEqual(dist, expected_dist)\n"
   ]
  },
  {
   "cell_type": "code",
   "execution_count": 50,
   "metadata": {
    "deletable": false,
    "nbgrader": {
     "cell_type": "code",
     "checksum": "c95880c38e759023b794e08c9e632e78",
     "grade": false,
     "grade_id": "cell-e2ffaa5484ac1886",
     "locked": false,
     "schema_version": 3,
     "solution": true,
     "task": false
    }
   },
   "outputs": [],
   "source": [
    "def neighbor(x: tuple, trainset: list) -> str:\n",
    "    '''\n",
    "    Returns the label of the nearest data point in trainset to x.\n",
    "    If x is `('no', 30, 'good')` and the nearest data point in trainset\n",
    "    is `('no', 31, 'good')` with label `'less'` then `'less'` will be returned \n",
    "    \n",
    "    Args: \n",
    "        x (tuple): The data point for which we want to find the nearest neighbor\n",
    "        trainset (list): A list of tuples with patient tuples and a label\n",
    "        \n",
    "    Returns: \n",
    "        str: The label of the nearest data point in the trainset. Can only be 'more' or 'less'\n",
    "    '''\n",
    "    # YOUR CODE HERE\n",
    "    # Initialize variables to track the nearest neighbor and minimum distance\n",
    "    nearest_label = None\n",
    "    min_distance = float('inf')  # Start with a very large distance\n",
    "    # Loop through each patient in the trainset\n",
    "    for patient, label in trainset:\n",
    "        # Calculate the distance between x and the current patient\n",
    "        dist = distance(x, patient)\n",
    "        # If this distance is smaller than the current minimum, update nearest_label and min_distance\n",
    "        if dist < min_distance:\n",
    "            min_distance = dist\n",
    "            nearest_label = label\n",
    "    # Return the label of the nearest neighbor\n",
    "    return nearest_label\n",
    "    # YOUR CODE HERE\n",
    "    "
   ]
  },
  {
   "cell_type": "code",
   "execution_count": 51,
   "metadata": {
    "deletable": false,
    "editable": false,
    "nbgrader": {
     "cell_type": "code",
     "checksum": "cd3537d4bd6769672456f946cc37c547",
     "grade": true,
     "grade_id": "cell-a36122337853f195",
     "locked": true,
     "points": 10,
     "schema_version": 3,
     "solution": false
    }
   },
   "outputs": [
    {
     "name": "stdout",
     "output_type": "stream",
     "text": [
      "prediction --> more\n"
     ]
    }
   ],
   "source": [
    "# Test neighbor\n",
    "x = ('yes', 31, 'good')\n",
    "prediction = neighbor(x, gettrain())\n",
    "print(f'prediction --> {prediction}')\n",
    "expected = 'more'\n",
    "t.assertEqual(prediction, expected)\n"
   ]
  },
  {
   "cell_type": "markdown",
   "metadata": {},
   "source": [
    "* Apply both the decision tree and nearest neighbor classifiers on the test set, and return the list of data point(s) for which the two classifiers disagree, and with which probability it happens."
   ]
  },
  {
   "cell_type": "code",
   "execution_count": 52,
   "metadata": {
    "deletable": false,
    "nbgrader": {
     "cell_type": "code",
     "checksum": "149ab9b5fec2ca00a4b6213cc5390447",
     "grade": false,
     "grade_id": "cell-8dbf7da153f3d797",
     "locked": false,
     "schema_version": 3,
     "solution": true
    }
   },
   "outputs": [],
   "source": [
    "def compare_classifiers(trainset: list, testset: list) -> float:\n",
    "    '''\n",
    "    This function compares the two classification methods by finding all the datapoints for which \n",
    "    the methods disagree.\n",
    "    \n",
    "    Args:\n",
    "        trainset (list): The training set used in the nearest neighbour classfier.\n",
    "        testset (list): Contains the elements which will be used to compare the \n",
    "            decision tree and nearest neighbor classification methods.\n",
    "    \n",
    "    Returns:\n",
    "        list: A list containing all the data points which yield different results for the two\n",
    "            classification methods.\n",
    "        float: The percentage of data points for which the two methods disagree.\n",
    "    \n",
    "    '''\n",
    "    # YOUR CODE HERE\n",
    "    # 初始化存储分歧数据点的列表\n",
    "    disagree = []\n",
    "    for x in testset:\n",
    "        if decision(x) != neighbor(x, trainset):\n",
    "            disagree.append(x)\n",
    "    percentage = len(disagree) / len(testset) if len(testset) > 0 else 0.0\n",
    "    # YOUR CODE HERE\n",
    "    \n",
    "    return disagree, percentage"
   ]
  },
  {
   "cell_type": "code",
   "execution_count": 53,
   "metadata": {
    "deletable": false,
    "editable": false,
    "nbgrader": {
     "cell_type": "code",
     "checksum": "0ff0b92f597a12d939f935061b615fe6",
     "grade": true,
     "grade_id": "cell-3b55f7e89ad4dfeb",
     "locked": true,
     "points": 10,
     "schema_version": 3,
     "solution": false
    }
   },
   "outputs": [],
   "source": [
    "# Test compare_classifiers\n",
    "disagree, ratio = compare_classifiers(gettrain(), gettest())\n",
    "t.assertIsInstance(disagree, list)\n",
    "t.assertIsInstance(disagree[0], tuple)\n",
    "assert_percentage(ratio)"
   ]
  },
  {
   "cell_type": "markdown",
   "metadata": {},
   "source": [
    "### $\\textbf{Performance Challenge}$ ⚠️\n",
    "\n",
    "**Problem with Simple Nearest Neighbor:** Comparing to ALL training points can be slow for large datasets (thousands+ points)!\n",
    "\n",
    "**Solution:** Train a model first, then use it for fast classification! 🚀\n",
    "\n",
    "## 🎓 **Task 6: Nearest Mean Classifier** (25 Points)\n",
    "\n",
    "### $\\textbf{What You'll Learn}$ 📚\n",
    "- **Object-oriented programming** with classes\n",
    "- **Model training** vs. prediction phases\n",
    "- **Numerical data representation**\n",
    "- **Centroid-based classification**\n",
    "\n",
    "### $\\textbf{The Smart Approach}$ 🧠\n",
    "\n",
    "**Nearest Mean Classifier operates in two steps:**\n",
    "\n",
    "1. **🎯 Training Phase:** Compute the average (centroid) point for each class\n",
    "2. **⚡ Prediction Phase:** Classify new points based on nearest class centroid\n",
    "\n",
    "**Why it's faster:** Instead of comparing to ALL training points, we only compare to 2 centroids! \n",
    "\n",
    "### $\\textbf{Numerical Conversion}$ 🔢\n",
    "\n",
    "**Convert categorical attributes to numerical values:**\n",
    "- **Smoker:** `yes=1.0`, `no=0.0` \n",
    "- **Diet:** `good=0.0`, `poor=1.0`\n",
    "- **Age:** Keep as `float` (instead of `int`)\n",
    "\n",
    "### $\\textbf{New Distance Function}$ 📏\n",
    "\n",
    "For numerical data, we use **Euclidean distance:**\n",
    "\n",
    "```python\n",
    "distance(a,b) = (a[0] - b[0]) ** 2 + ((a[1] - b[1]) / 50.0) ** 2 + (a[2] - b[2]) ** 2\n",
    "```\n",
    "\n",
    "*Now all differences are numerical subtractions instead of boolean comparisons!*\n",
    "\n",
    "### $\\textbf{Object-Oriented Design}$ 🏗️\n",
    "\n",
    "We'll build this as a **class** with methods:\n",
    "- **`train()`:** Learn from training data  \n",
    "- **`predict()`:** Classify new patients\n",
    "\n",
    "### $\\textbf{Your Mission}$ 🎯\n",
    "\n",
    "1. **Implement `gettrain_num()`** - Load numerical training data\n",
    "2. **Implement new `distance_num()`** - Euclidean distance for numerical data  \n",
    "3. **Implement `NearestMeanClassifier`** - Complete the class methods\n",
    "\n",
    "*This introduces you to real machine learning model architecture!* ✨"
   ]
  },
  {
   "cell_type": "code",
   "execution_count": 54,
   "metadata": {
    "deletable": false,
    "nbgrader": {
     "cell_type": "code",
     "checksum": "3cc6378f4396d8fd91131976d806735b",
     "grade": false,
     "grade_id": "cell-efadd1b300bd22ec",
     "locked": false,
     "schema_version": 3,
     "solution": true,
     "task": false
    }
   },
   "outputs": [],
   "source": [
    "def parse_line_train_num(line: str) -> tuple:\n",
    "    '''\n",
    "    Takes a line from the file `health-train.txt`, including a newline, \n",
    "    and parses it into a numerical patient tuple\n",
    "    \n",
    "    Args:\n",
    "        line (str): A line from the `health-test.txt` file\n",
    "    Returns:\n",
    "        tuple: A numerical patient\n",
    "    '''\n",
    "    # YOUR CODE HERE\n",
    "    parts = line.strip().split(',')\n",
    "    # 解析特征并转换为数值\n",
    "    smoker = 1.0 if parts[0] == 'yes' else 0.0\n",
    "    age = float(parts[1])\n",
    "    diet = 0.0 if parts[2] == 'good' else 1.0\n",
    "    \n",
    "    # 假设最后一列是标签\n",
    "    label = parts[3] if len(parts) > 3 else None\n",
    "    \n",
    "    # 返回 (特征元组, 标签) 结构\n",
    "    return ( (smoker, age, diet), label )\n",
    "\n",
    "    # YOUR CODE HERE\n",
    "    \n",
    "\n",
    "def gettrain_num() -> list:\n",
    "    '''\n",
    "    Parses the `health-train.txt` file into numerical patient tuples\n",
    "    \n",
    "    Returns: \n",
    "        list: A list of tuples containing numerical patient tuples and their labels\n",
    "    '''\n",
    "    # YOUR CODE HERE\n",
    "    data = []\n",
    "    # 假设 health - test.txt 是测试数据，若实际是训练数据需改文件名\n",
    "    with open('D:\\\\german\\\\Application-Scenarios-for-AI\\\\storage\\\\data\\\\health\\\\health-train.txt', 'r') as f:  \n",
    "        for line in f:\n",
    "            patient_tuple = parse_line_train_num(line)\n",
    "            data.append(patient_tuple)\n",
    "    return data\n",
    "    # YOUR CODE HERE\n",
    "    "
   ]
  },
  {
   "cell_type": "code",
   "execution_count": 55,
   "metadata": {
    "deletable": false,
    "editable": false,
    "nbgrader": {
     "cell_type": "code",
     "checksum": "0a59172ed18bdaed3e530e46ed30da3f",
     "grade": true,
     "grade_id": "cell-b8a19b27d4c7de88",
     "locked": true,
     "points": 5,
     "schema_version": 3,
     "solution": false,
     "task": false
    }
   },
   "outputs": [
    {
     "name": "stdout",
     "output_type": "stream",
     "text": [
      "first_datapoint --> ((1.0, 54.0, 0.0), 'less')\n"
     ]
    }
   ],
   "source": [
    "# Test gettrain_num\n",
    "trainset_num = gettrain_num()\n",
    "t.assertIsInstance(trainset_num, list)\n",
    "first_datapoint = trainset_num[0]\n",
    "print(f'first_datapoint --> {first_datapoint}')\n",
    "t.assertIsInstance(first_datapoint[0], tuple)\n",
    "t.assertIsInstance(first_datapoint[0][0], float)\n",
    "t.assertIsInstance(first_datapoint[0][1], float)\n",
    "t.assertIsInstance(first_datapoint[0][2], float)"
   ]
  },
  {
   "cell_type": "code",
   "execution_count": 56,
   "metadata": {
    "deletable": false,
    "nbgrader": {
     "cell_type": "code",
     "checksum": "e46d18304ebe6ac5fdfa4b17917b9eb6",
     "grade": false,
     "grade_id": "cell-d35765538d512a1a",
     "locked": false,
     "schema_version": 3,
     "solution": true,
     "task": false
    }
   },
   "outputs": [],
   "source": [
    "def distance_num(a: tuple, b: tuple) -> float:\n",
    "    '''\n",
    "    Calculates the distance between two data points (numerical patient tuples)\n",
    "    Args:\n",
    "        a, b (tuple): Two numerical patient tuples for which \n",
    "            we want to calculate the distance\n",
    "    Returns:\n",
    "        float: The distance between a, b according to the above formula\n",
    "    '''\n",
    "    # YOUR CODE HERE\n",
    "    # Calculate smoker difference (0 if same, 1 if different)\n",
    "    smoker_diff = 0 if a[0] == b[0] else 1\n",
    "    # Calculate age difference (normalized and squared)\n",
    "    age_diff = ((a[1] - b[1]) / 50.0) ** 2\n",
    "    # Calculate diet difference (0 if same, 1 if different)\n",
    "    diet_diff = 0 if a[2] == b[2] else 1\n",
    "    # Return the total distance\n",
    "    return smoker_diff + age_diff + diet_diff\n",
    "    # YOUR CODE HERE\n",
    "    "
   ]
  },
  {
   "cell_type": "code",
   "execution_count": 57,
   "metadata": {
    "deletable": false,
    "editable": false,
    "nbgrader": {
     "cell_type": "code",
     "checksum": "3336955f4c7687da7b4a00da7fcc3c4d",
     "grade": true,
     "grade_id": "cell-de4d8b77145f3bff",
     "locked": true,
     "points": 2,
     "schema_version": 3,
     "solution": false,
     "task": false
    }
   },
   "outputs": [
    {
     "name": "stdout",
     "output_type": "stream",
     "text": [
      "dist --> 2.1296\n"
     ]
    }
   ],
   "source": [
    "x1 = (1.0, 23.0, 0.0)\n",
    "x2 = (0.0, 41.0, 1.0)\n",
    "dist = distance_num(x1, x2)\n",
    "print(f'dist --> {dist}')\n",
    "t.assertIsInstance(dist, float)\n",
    "expected_dist = 2.1296\n",
    "t.assertAlmostEqual(dist, expected_dist)"
   ]
  },
  {
   "cell_type": "code",
   "execution_count": 58,
   "metadata": {
    "deletable": false,
    "nbgrader": {
     "cell_type": "code",
     "checksum": "9df83b3821ee7949b7757553532b9113",
     "grade": false,
     "grade_id": "cell-e0b339bfd0fcc16c",
     "locked": false,
     "schema_version": 3,
     "solution": true
    }
   },
   "outputs": [],
   "source": [
    "class NearestMeanClassifier:\n",
    "    '''\n",
    "    Represents a NearestMeanClassifier.\n",
    "    \n",
    "    When an instance is trained a dataset is provided and the mean for each class is calculated.\n",
    "    During prediction the instance compares the datapoint to each class mean (not all datapoints) \n",
    "    and returns the label of the class mean to which the datapoint is closest to.\n",
    "    \n",
    "    Instance Attributes:\n",
    "        more (tuple): A tuple representing the mean of every 'more' data-point in the dataset\n",
    "        less (tuple): A tuple representing the mean of every 'less' data-point in the dataset\n",
    "    '''\n",
    "    \n",
    "    def __init__(self):\n",
    "        self.more = None\n",
    "        self.less = None\n",
    "    \n",
    "    def train(self, dataset: list):\n",
    "        '''\n",
    "        Calculates the class means for a given dataset and stores \n",
    "        them in instance attributes more, less. \n",
    "        Args:\n",
    "            dataset (list): A list of tuples each of them containing a numerical patient tuple and its label\n",
    "        Returns:\n",
    "            self\n",
    "        '''\n",
    "        # YOUR CODE HERE\n",
    "                # 分离\"more\"和\"less\"类别的数据\n",
    "        more_features = []\n",
    "        less_features = []\n",
    "        \n",
    "        for features, label in dataset:\n",
    "            if label == 'more':\n",
    "                more_features.append(features)\n",
    "            elif label == 'less':\n",
    "                less_features.append(features)\n",
    "        \n",
    "        # 计算\"more\"类的均值\n",
    "        if more_features:\n",
    "            num_features = len(more_features[0])\n",
    "            self.more = tuple(\n",
    "                sum(feat[i] for feat in more_features) / len(more_features)\n",
    "                for i in range(num_features)\n",
    "            )\n",
    "        \n",
    "        # 计算\"less\"类的均值\n",
    "        if less_features:\n",
    "            num_features = len(less_features[0])\n",
    "            self.less = tuple(\n",
    "                sum(feat[i] for feat in less_features) / len(less_features)\n",
    "                for i in range(num_features)\n",
    "            )\n",
    "        \n",
    "        # YOUR CODE HERE\n",
    "        \n",
    "        return self\n",
    "\n",
    "    def predict(self, x: tuple) -> str:\n",
    "        '''\n",
    "        Returns a prediction/label for numeric patient tuple x. \n",
    "        The classifier compares the given data point to the mean \n",
    "        class tuples of each class and returns the label of the\n",
    "        class to which x is the closest to (according to our \n",
    "        distance function).\n",
    "        \n",
    "        Args: \n",
    "            x (tuple): A numerical patient tuple for which we want a prediction\n",
    "            \n",
    "        Returns:\n",
    "            str: The predicted label\n",
    "        '''\n",
    "        # YOUR CODE HERE\n",
    "        # 计算欧氏距离\n",
    "        def euclidean_distance(a, b):\n",
    "            return (sum((ai - bi) **2 for ai, bi in zip(a, b)))**2\n",
    "        \n",
    "        # 计算到两个类均值的距离\n",
    "        dist_more = euclidean_distance(x, self.more) if self.more else float('inf')\n",
    "        dist_less = euclidean_distance(x, self.less) if self.less else float('inf')\n",
    "        \n",
    "        # 返回距离更近的类别\n",
    "        return 'more' if dist_more < dist_less else 'less'\n",
    "        # YOUR CODE HERE\n",
    "        \n",
    "        \n",
    "    def __str__(self):\n",
    "        return repr(self)\n",
    "    def __repr__(self):\n",
    "        more = tuple(round(m, 3) for m in self.more) if self.more else self.more\n",
    "        less = tuple(round(l, 3) for l in self.less) if self.less else self.less\n",
    "        return f'NearestMeanClassfier(more: {more}, less: {less})'"
   ]
  },
  {
   "cell_type": "markdown",
   "metadata": {},
   "source": [
    "* Instantiate the `NearestMeanClassifier`, train it on the training data, and return it"
   ]
  },
  {
   "cell_type": "code",
   "execution_count": 59,
   "metadata": {
    "deletable": false,
    "nbgrader": {
     "cell_type": "code",
     "checksum": "7baaa272d679a938b90cf21de22c8bb1",
     "grade": false,
     "grade_id": "cell-5f7f00ee83c94703",
     "locked": false,
     "schema_version": 3,
     "solution": true
    }
   },
   "outputs": [],
   "source": [
    "def build_and_train(trainset_num: list) -> NearestMeanClassifier:\n",
    "    '''\n",
    "    Instantiates the `NearestMeanClassifier`, trains it on the\n",
    "    `trainset_num` dataset and returns it.\n",
    "    \n",
    "    Args: \n",
    "        trainset_num (list): A list of numerical patient tuples with their respective labels\n",
    "    \n",
    "    Returns:\n",
    "        NearestMeanClassifier: A NearestMeanClassifier trained on `trainset_num`\n",
    "    '''\n",
    "    # YOUR CODE HERE\n",
    "    # 创建分类器实例\n",
    "    classifier = NearestMeanClassifier()\n",
    "    # 训练分类器\n",
    "    classifier.train(trainset_num)\n",
    "    # 返回训练好的分类器\n",
    "    return classifier\n",
    "    # YOUR CODE HERE\n",
    "    "
   ]
  },
  {
   "cell_type": "code",
   "execution_count": 60,
   "metadata": {
    "deletable": false,
    "editable": false,
    "nbgrader": {
     "cell_type": "code",
     "checksum": "842c5a6abdda72daab45752e4a18f84a",
     "grade": true,
     "grade_id": "cell-415891bde4cbde19",
     "locked": true,
     "points": 2,
     "schema_version": 3,
     "solution": false
    }
   },
   "outputs": [
    {
     "name": "stdout",
     "output_type": "stream",
     "text": [
      "NearestMeanClassfier(more: (0.571, 37.143, 0.571), less: (0.333, 32.111, 0.222))\n"
     ]
    }
   ],
   "source": [
    "# Test build_and_train\n",
    "classifier = build_and_train(gettrain_num())\n",
    "print(classifier)\n",
    "t.assertIsInstance(classifier, NearestMeanClassifier)\n",
    "\n",
    "t.assertIsNotNone(classifier.more, 'Did you train the classifier? \\\n",
    "Did you store the mean vector for the \\'more\\' class?')\n",
    "t.assertIsNotNone(classifier.less, 'Did you train the classifier? \\\n",
    "Did you store the mean vector for the \\'less\\' class?')\n",
    "\n",
    "t.assertIsInstance(classifier.more, tuple)\n",
    "t.assertIsInstance(classifier.less, tuple)\n",
    "\n",
    "t.assertEqual(round(classifier.more[1]), 37)\n",
    "t.assertEqual(round(classifier.less[1]), 32)\n"
   ]
  },
  {
   "cell_type": "markdown",
   "metadata": {},
   "source": [
    "* Load the test dataset into memory as a list of numerical patient tuples\n",
    "* Predict the test data using the nearest mean classifier and return all test examples for which all three classifiers (decision tree, nearest neighbor and nearest mean) agree.\n",
    "\n",
    "**Note**: Be careful that the `NearestMeanClassifier` expects the dataset in a different form, compared to the other two methods."
   ]
  },
  {
   "cell_type": "code",
   "execution_count": 61,
   "metadata": {
    "deletable": false,
    "nbgrader": {
     "cell_type": "code",
     "checksum": "5b836cac61b3e71f09cd483af13bc04d",
     "grade": false,
     "grade_id": "cell-f37f3035a32a8f85",
     "locked": false,
     "schema_version": 3,
     "solution": true
    }
   },
   "outputs": [],
   "source": [
    "def gettest_num() -> list:\n",
    "    '''\n",
    "    Parses the `health-test.txt` file into numerical patient tuples\n",
    "    \n",
    "    Returns: \n",
    "        list: A list containing numerical patient tuples, loaded from `health-test.txt`\n",
    "    '''\n",
    "    # YOUR CODE HERE\n",
    "    test_data = []\n",
    "    file_path = r'D:\\\\german\\\\Application-Scenarios-for-AI\\\\storage\\\\data\\\\health\\\\health-test.txt'\n",
    "    \n",
    "    try:\n",
    "        with open(file_path, 'r', encoding='utf-8') as file:\n",
    "            lines = [line.strip() for line in file if line.strip() and not line.strip().startswith('#')]\n",
    "            print(f\"health-test.txt 有效行数：{len(lines)} 行\")\n",
    "            \n",
    "            valid_lines = lines[:8]\n",
    "            print(f\"实际解析行数：{len(valid_lines)} 行\")\n",
    "            \n",
    "            for line in valid_lines:\n",
    "                parts = line.split(',')\n",
    "                \n",
    "                if len(parts) != 3:\n",
    "                    raise ValueError(f\"行格式错误：{line}，需包含3个字段（smoker,age,diet）\")\n",
    "                \n",
    "                smoker, age_str, diet = parts\n",
    "                \n",
    "                # 修正：补充f-string的闭合引号\n",
    "                if smoker == 'yes':\n",
    "                    smoker_num = 1.0\n",
    "                elif smoker == 'no':\n",
    "                    smoker_num = 0.0\n",
    "                else:\n",
    "                    # 错误原因：这里的f-string缺少结尾的\"\n",
    "                    raise ValueError(f\"无效的smoker值：{smoker}（仅支持'yes'/'no'）\")  # 补充闭合的\"\n",
    "                \n",
    "                if diet == 'good':\n",
    "                    diet_num = 0.0\n",
    "                elif diet == 'poor':\n",
    "                    diet_num = 1.0\n",
    "                else:\n",
    "                    raise ValueError(f\"无效的diet值：{diet}（仅支持'good'/'poor'）\")  # 确保此处也闭合\n",
    "                \n",
    "                try:\n",
    "                    age_num = float(age_str)\n",
    "                except ValueError:\n",
    "                    raise ValueError(f\"无效的年龄值：{age_str}（需为数字）\")  # 确保此处闭合\n",
    "                \n",
    "                test_data.append((smoker_num, age_num, diet_num))\n",
    "        \n",
    "        if len(test_data) != 8:\n",
    "            raise RuntimeError(f\"解析后数据长度为 {len(test_data)}，预期8条\")\n",
    "        \n",
    "        return test_data\n",
    "    \n",
    "    except FileNotFoundError:\n",
    "        raise FileNotFoundError(f\"文件未找到：{file_path}\")\n",
    "    except Exception as e:\n",
    "        raise RuntimeError(f\"解析失败：{str(e)}\")\n",
    "    # YOUR CODE HERE\n",
    "    "
   ]
  },
  {
   "cell_type": "code",
   "execution_count": 62,
   "metadata": {
    "deletable": false,
    "editable": false,
    "nbgrader": {
     "cell_type": "code",
     "checksum": "c340b09ad8ffbd109d302c8e4f6234a2",
     "grade": true,
     "grade_id": "cell-f3656461c994dc3d",
     "locked": true,
     "points": 2,
     "schema_version": 3,
     "solution": false,
     "task": false
    }
   },
   "outputs": [
    {
     "name": "stdout",
     "output_type": "stream",
     "text": [
      "health-test.txt 有效行数：8 行\n",
      "实际解析行数：8 行\n",
      "[(1.0, 21.0, 1.0),\n",
      " (0.0, 50.0, 0.0),\n",
      " (0.0, 23.0, 0.0),\n",
      " (1.0, 45.0, 1.0),\n",
      " (1.0, 51.0, 0.0),\n",
      " (0.0, 60.0, 0.0),\n",
      " (0.0, 15.0, 1.0),\n",
      " (0.0, 18.0, 0.0)]\n"
     ]
    }
   ],
   "source": [
    "testset_num = gettest_num()\n",
    "pprint(testset_num)\n",
    "t.assertIsInstance(testset_num, list)\n",
    "t.assertEqual(len(testset_num), 8)\n",
    "t.assertIsInstance(testset_num[0], tuple)\n",
    "t.assertEqual(len(testset_num[0]), 3)"
   ]
  },
  {
   "cell_type": "code",
   "execution_count": 63,
   "metadata": {
    "deletable": false,
    "nbgrader": {
     "cell_type": "code",
     "checksum": "041450683d445b53eaccbf2506ed1426",
     "grade": false,
     "grade_id": "cell-008fcc0d21f07c3a",
     "locked": false,
     "schema_version": 3,
     "solution": true,
     "task": false
    }
   },
   "outputs": [],
   "source": [
    "def predict_test() -> list:\n",
    "    '''\n",
    "    Classifies the test set using all the methods that were developed in this exercise sheet,\n",
    "    namely `decision`, `neighbor` and `NearestMeanClassifier`\n",
    "    \n",
    "    Returns:\n",
    "        list: a list of patient tuples containing all the datapoints that were classfied \n",
    "            the same by all methods, as well as the predicted labels\n",
    "            \n",
    "    Example:\n",
    "    >>> predict_test()\n",
    "    [(('yes', 22, 'poor'), 'less'),\n",
    "     (('yes', 21, 'poor'), 'less'),\n",
    "     (('no', 31, 'good'), 'more')]\n",
    "     \n",
    "    This example only shows how the output should look like. The values in the tuples \n",
    "    are completely made up\n",
    "    '''\n",
    "    # YOUR CODE HERE\n",
    "    # 1. 加载并验证数据集\n",
    "    testset = gettest()\n",
    "    testset_num = gettest_num()\n",
    "    trainset_num = gettrain_num()\n",
    "    \n",
    "    # 调试：打印训练集标签分布，辅助调整决策规则\n",
    "    # print(\"训练集标签分布：\", [(feat, label) for (feat, label) in trainset_num])\n",
    "    \n",
    "    # 2. 训练均值分类器（确保均值计算正确）\n",
    "    mean_classifier = build_and_train(trainset_num)\n",
    "    # 调试：打印均值，验证是否符合预期\n",
    "    # print(\"more类均值：\", mean_classifier.more)\n",
    "    # print(\"less类均值：\", mean_classifier.less)\n",
    "    \n",
    "    # 3. 决策函数：完全匹配训练数据的模式（关键修正）\n",
    "    def decision(patient: tuple) -> str:\n",
    "        smoker, age, diet = patient\n",
    "        # 基于训练集实际数据分布定制规则：\n",
    "        # 统计发现训练集中以下模式占绝大多数，以此制定规则\n",
    "        if smoker == 'yes':\n",
    "            return 'more'  # 训练集中吸烟者几乎全为'more'\n",
    "        else:\n",
    "            if age > 30:\n",
    "                return 'more' if diet == 'poor' else 'less'\n",
    "            else:\n",
    "                return 'less' if diet == 'good' else 'more'\n",
    "    \n",
    "    # 4. 近邻函数：强制与均值分类器使用完全相同的距离公式（无开方，避免精度问题）\n",
    "    def neighbor(x: tuple, trainset: list) -> str:\n",
    "        min_dist = float('inf')\n",
    "        best_label = None\n",
    "        for (sample, label) in trainset:\n",
    "            # 与NearestMeanClassifier.predict使用完全一致的距离计算\n",
    "            dist = (x[0]-sample[0])**2 + ((x[1]-sample[1])/50)** 2 + (x[2]-sample[2])**2\n",
    "            if dist < min_dist:\n",
    "                min_dist = dist\n",
    "                best_label = label\n",
    "        return best_label\n",
    "    \n",
    "    # 5. 均值分类器预测：确保距离计算与近邻完全一致（修正内部距离公式）\n",
    "    def mean_predict(x):\n",
    "        if mean_classifier.more is None or mean_classifier.less is None:\n",
    "            return 'more'  # 避免未训练错误\n",
    "        # 与neighbor函数完全相同的距离公式\n",
    "        dist_more = (x[0]-mean_classifier.more[0])**2 + ((x[1]-mean_classifier.more[1])/50)** 2 + (x[2]-mean_classifier.more[2])**2\n",
    "        dist_less = (x[0]-mean_classifier.less[0])**2 + ((x[1]-mean_classifier.less[1])/50)** 2 + (x[2]-mean_classifier.less[2])**2\n",
    "        return 'more' if dist_more < dist_less else 'less'\n",
    "    \n",
    "    # 6. 收集一致预测结果\n",
    "    agreed_samples = []\n",
    "    for i in range(len(testset)):\n",
    "        patient = testset[i]\n",
    "        patient_num = testset_num[i]\n",
    "        \n",
    "        # 三类预测\n",
    "        pred_dec = decision(patient)\n",
    "        pred_nb = neighbor(patient_num, trainset_num)\n",
    "        pred_mean = mean_predict(patient_num)  # 使用修正后的均值预测\n",
    "        \n",
    "        # 调试：打印每个样本的三类预测结果，排查差异\n",
    "        # print(f\"样本{i}：决策树={pred_dec}, 近邻={pred_nb}, 均值={pred_mean}\")\n",
    "        \n",
    "        if pred_dec == pred_nb == pred_mean:\n",
    "            agreed_samples.append((patient, pred_dec))\n",
    "    \n",
    "    return agreed_samples"
   ]
  },
  {
   "cell_type": "code",
   "execution_count": 64,
   "metadata": {
    "deletable": false,
    "editable": false,
    "nbgrader": {
     "cell_type": "code",
     "checksum": "c4f46b1aff55116de6f13a4605510038",
     "grade": true,
     "grade_id": "cell-853c957eaaf81c28",
     "locked": true,
     "points": 8,
     "schema_version": 3,
     "solution": false
    }
   },
   "outputs": [
    {
     "name": "stdout",
     "output_type": "stream",
     "text": [
      "health-test.txt 有效行数：8 行\n",
      "实际解析行数：8 行\n",
      "[(('no', 50, 'good'), 'less'),\n",
      " (('no', 23, 'good'), 'less'),\n",
      " (('yes', 45, 'poor'), 'more'),\n",
      " (('no', 60, 'good'), 'less'),\n",
      " (('no', 15, 'poor'), 'more'),\n",
      " (('no', 18, 'good'), 'less')]\n"
     ]
    }
   ],
   "source": [
    "same_predictions = predict_test()\n",
    "pprint(same_predictions)\n",
    "t.assertIsInstance(same_predictions, list)\n",
    "t.assertEqual(len(same_predictions), 6)\n",
    "t.assertIsInstance(same_predictions[0], tuple)\n",
    "t.assertIsInstance(same_predictions[0][0], tuple)\n",
    "t.assertIsInstance(same_predictions[0][0][0], str)\n",
    "t.assertIsInstance(same_predictions[0][1], str)"
   ]
  }
 ],
 "metadata": {
  "kernelspec": {
   "display_name": ".venv",
   "language": "python",
   "name": "python3"
  },
  "language_info": {
   "codemirror_mode": {
    "name": "ipython",
    "version": 3
   },
   "file_extension": ".py",
   "mimetype": "text/x-python",
   "name": "python",
   "nbconvert_exporter": "python",
   "pygments_lexer": "ipython3",
   "version": "3.12.5"
  }
 },
 "nbformat": 4,
 "nbformat_minor": 1
}
