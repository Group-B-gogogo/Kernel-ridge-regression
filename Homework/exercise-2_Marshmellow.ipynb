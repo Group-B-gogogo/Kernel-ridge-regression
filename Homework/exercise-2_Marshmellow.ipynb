{
 "cells": [
  {
   "cell_type": "markdown",
   "metadata": {},
   "source": [
    "# $$\\textbf{TU Berlin Summer School 2025}$$\n",
    "\n",
    "<br>\n",
    "\n",
    "<center>\n",
    "<img src='../storage/images/logo.png' width=900>\n",
    "</center>\n",
    "\n",
    "<br>\n",
    "\n",
    "## $$\\textbf{Exercise Session: NumPy Performance & Real-World ML}$$ 🚀💻\n",
    "\n",
    "### $\\textbf{Welcome to Your Advanced Python Challenge!}$ ⚡\n",
    "\n",
    "*Today you'll optimize machine learning algorithms using NumPy and tackle real handwritten digit recognition!* ✨"
   ]
  },
  {
   "cell_type": "code",
   "execution_count": null,
   "metadata": {},
   "outputs": [],
   "source": [
    "# 📝 Enter your team information here - collaboration makes learning better!\n",
    "GROUPNAME = \"Group B-gogogo\"  # Your team/group name\n",
    "COLLABORATOR_NAMES = \"Dream,marshmello, Cybertbee\"  # Names of your teammates"
   ]
  },
  {
   "cell_type": "code",
   "execution_count": 2,
   "metadata": {},
   "outputs": [
    {
     "name": "stdout",
     "output_type": "stream",
     "text": [
      "✨ Great! You're running Python 3.13 - you're all set!\n"
     ]
    }
   ],
   "source": [
    "# ✅ Version check - making sure you have the right Python version!\n",
    "import sys\n",
    "assert sys.version_info >= (3,10), 'You need to be running at least Python version 3.10'\n",
    "print(f\"✨ Great! You're running Python {sys.version_info.major}.{sys.version_info.minor} - you're all set!\")\n"
   ]
  },
  {
   "cell_type": "code",
   "execution_count": 3,
   "metadata": {},
   "outputs": [
    {
     "name": "stdout",
     "output_type": "stream",
     "text": [
      "🔧 Testing framework loaded successfully!\n"
     ]
    }
   ],
   "source": [
    "# 🧪 Testing setup - This cell is for grading. DO NOT remove it!\n",
    "\n",
    "# Use unittest asserts for automatic testing\n",
    "import unittest; t = unittest.TestCase()\n",
    "from pprint import pprint  # Pretty printing for better output display\n",
    "import numpy as np\n",
    "import warnings\n",
    "warnings.filterwarnings('ignore')  # Suppress warnings for cleaner output\n",
    "\n",
    "# 📊 Helper function to validate performance improvements\n",
    "def assert_faster(time_old, time_new, min_speedup=1.5):\n",
    "    \"\"\"Ensures new implementation is significantly faster than old one\"\"\"\n",
    "    speedup = time_old / time_new\n",
    "    t.assertGreater(speedup, min_speedup, \n",
    "                   f'New implementation should be at least {min_speedup}x faster. Got {speedup:.2f}x')\n",
    "    \n",
    "print(\"🔧 Testing framework loaded successfully!\")\n"
   ]
  },
  {
   "cell_type": "markdown",
   "metadata": {},
   "source": [
    "# 📋 Exercise Sheet 2: Performance Optimization & Real ML 🚀\n",
    "\n",
    "## $\\textbf{From Slow to Lightning Fast - The NumPy Revolution!}$ ⚡\n",
    "\n",
    "### $\\textbf{The Challenge We're Solving}$ 🎯\n",
    "\n",
    "In **Exercise 1**, you built several classification methods: decision trees, nearest neighbors, and nearest means. The **k-nearest neighbors** algorithm was the most accurate because it could learn complex patterns from data. But there's a problem... 🐌\n",
    "\n",
    "**Pure Python + Loops = SLOW!** 😰\n",
    "\n",
    "When dealing with:\n",
    "- 📊 **Large datasets** (thousands of data points)  \n",
    "- 📐 **High dimensions** (hundreds of features)\n",
    "- 🔍 **Real-time predictions** (milliseconds matter!)\n",
    "\n",
    "...your Python loops become a major bottleneck!\n",
    "\n",
    "### $\\textbf{Your Mission Today}$ 🎯\n",
    "\n",
    "**Transform slow Python code into lightning-fast NumPy operations!** ⚡\n",
    "\n",
    "You'll learn to:\n",
    "- 🔄 **Replace loops** with vectorized operations\n",
    "- 📈 **Measure performance** improvements  \n",
    "- 📊 **Create performance plots** with matplotlib\n",
    "- 🤖 **Apply optimizations** to real handwritten digit recognition!\n",
    "\n",
    "### $\\textbf{The Learning Journey}$ 🛤️\n",
    "\n",
    "1. **🚀 Speed up distance calculations** with NumPy vectorization\n",
    "2. **⚡ Optimize nearest neighbor search** without loops  \n",
    "3. **💨 Accelerate batch processing** for multiple predictions\n",
    "4. **🔢 Apply to real data** - handwritten digit recognition!\n",
    "\n",
    "### $\\textbf{Required Packages}$ 📦\n",
    "\n",
    "Make sure you have all the required packages installed:\n",
    "```bash\n",
    "uv pip install numpy scipy scikit-learn matplotlib\n",
    "# or\n",
    "uv pip install -r requirements.txt\n",
    "```\n",
    "\n",
    "**Ready to see the power of scientific computing?** Let's get started! 🚀\n",
    "\n",
    "*This exercise bridges the gap between learning algorithms and building production-ready machine learning systems!* ✨"
   ]
  },
  {
   "cell_type": "markdown",
   "metadata": {},
   "source": [
    "## $$\\textbf{Baseline: Pure Python Implementation}$$ 🐍\n",
    "---\n",
    "\n",
    "### $\\textbf{Understanding the Starting Point}$ 📍\n",
    "\n",
    "Before we optimize, let's understand our **baseline Python implementation**. The k-nearest neighbors algorithm relies on **distance calculations** between data points.\n",
    "\n",
    "**The Distance Function is the Heart of k-NN!** ❤️\n",
    "\n",
    "We'll compute the **squared Euclidean distance** between two points `x1` and `x2`:\n",
    "\n",
    "$$\\text{distance}(x_1, x_2) = \\sum_{i=1}^{d} (x_{1,i} - x_{2,i})^2$$\n",
    "\n",
    "*We use squared distance to avoid expensive square root calculations - it preserves ordering!* 💡"
   ]
  },
  {
   "cell_type": "code",
   "execution_count": 4,
   "metadata": {
    "deletable": false,
    "editable": false,
    "nbgrader": {
     "cell_type": "code",
     "checksum": "97647017c26037054b7a01b261a9e9c9",
     "grade": false,
     "grade_id": "cell-1b37d48b31ec0e79",
     "locked": true,
     "schema_version": 3,
     "solution": false
    }
   },
   "outputs": [],
   "source": [
    "# 🐍 Pure Python distance calculation - our baseline to beat!\n",
    "def pydistance(x1, x2):\n",
    "    \"\"\"\n",
    "    Calculate squared Euclidean distance using pure Python.\n",
    "    \n",
    "    🔍 How it works:\n",
    "    1. Zip pairs up corresponding elements from x1 and x2\n",
    "    2. Calculate (x1d - x2d)² for each dimension  \n",
    "    3. Sum all squared differences\n",
    "    \n",
    "    Args:\n",
    "        x1, x2 (iterable): Two data points (lists, arrays, etc.)\n",
    "        \n",
    "    Returns:\n",
    "        float: Squared Euclidean distance\n",
    "        \n",
    "    Example:\n",
    "        >>> pydistance([1, 2], [4, 6])\n",
    "        25.0  # (1-4)² + (2-6)² = 9 + 16 = 25\n",
    "    \"\"\"\n",
    "    return sum([(x1d - x2d) ** 2 for x1d, x2d in zip(x1, x2)])\n",
    "\n",
    "# This is our SLOW baseline - we'll make it MUCH faster! 🚀"
   ]
  },
  {
   "cell_type": "markdown",
   "metadata": {},
   "source": [
    "### $\\textbf{Finding the Nearest Neighbor}$ 🔍\n",
    "\n",
    "Once we can calculate distances, we need to find the **closest training example** to our query point `u`.\n",
    "\n",
    "**The Algorithm:** 🔄\n",
    "1. **Initialize:** Set best distance to infinity  \n",
    "2. **Loop:** Through all training points `(X, Y)`\n",
    "3. **Compare:** Calculate distance from `u` to each training point\n",
    "4. **Track:** Keep the closest point and its label\n",
    "5. **Return:** Label of the nearest neighbor\n",
    "\n",
    "*This is where the \"k=1\" in \"1-nearest neighbor\" comes from - we find the single closest example!* 💡"
   ]
  },
  {
   "cell_type": "code",
   "execution_count": 5,
   "metadata": {
    "deletable": false,
    "editable": false,
    "nbgrader": {
     "cell_type": "code",
     "checksum": "8158c17a5f44f10a8549f046d6cb00bd",
     "grade": false,
     "grade_id": "cell-66259b233d864979",
     "locked": true,
     "schema_version": 3,
     "solution": false
    }
   },
   "outputs": [],
   "source": [
    "# 🔍 Pure Python nearest neighbor search - also slow but accurate!\n",
    "def pynearest(u, X, Y, distance=pydistance):\n",
    "    \"\"\"\n",
    "    Find the nearest neighbor using pure Python loops.\n",
    "    \n",
    "    🔄 Algorithm:\n",
    "    1. Track the best (closest) point found so far\n",
    "    2. Loop through all training examples\n",
    "    3. Calculate distance to each training point\n",
    "    4. Keep the one with minimum distance\n",
    "    5. Return the label of the closest point\n",
    "    \n",
    "    Args:\n",
    "        u (iterable): Query point to classify\n",
    "        X (list): Training data points  \n",
    "        Y (list): Training labels\n",
    "        distance (callable): Distance function to use\n",
    "        \n",
    "    Returns:\n",
    "        Label of the nearest neighbor\n",
    "        \n",
    "    Example:\n",
    "        >>> X = [[1,2], [3,4], [5,6]]  # Training data\n",
    "        >>> Y = [0, 1, 1]              # Training labels  \n",
    "        >>> pynearest([2,3], X, Y)    # Query point [2,3]\n",
    "        0  # Closest to [1,2] which has label 0\n",
    "    \"\"\"\n",
    "    xbest = None      # Best training point found so far\n",
    "    ybest = None      # Label of best training point  \n",
    "    dbest = float('inf')  # Best distance (start with infinity)\n",
    "    \n",
    "    # 🔄 Loop through all training examples - this is SLOW!\n",
    "    for x, y in zip(X, Y):\n",
    "        d = distance(u, x)  # Calculate distance to this training point\n",
    "        if d < dbest:       # Found a closer point?\n",
    "            ybest = y       # Update best label\n",
    "            xbest = x       # Update best point\n",
    "            dbest = d       # Update best distance\n",
    "            \n",
    "    return int(ybest)  # Return label of closest training example"
   ]
  },
  {
   "cell_type": "markdown",
   "metadata": {},
   "source": [
    "### $\\textbf{Batch Processing - Classify Many Points}$ 📦\n",
    "\n",
    "In real applications, you rarely classify just one point. Usually you have a **batch of test points** to classify all at once!\n",
    "\n",
    "**Why Batch Processing Matters:** 🎯\n",
    "- 📊 **Real datasets:** Hundreds or thousands of test examples\n",
    "- 🏥 **Medical diagnosis:** Process multiple patient scans  \n",
    "- 📧 **Email classification:** Classify entire inbox at once\n",
    "- 🖼️ **Image recognition:** Process photo galleries\n",
    "\n",
    "**The Challenge:** Each test point needs its own nearest neighbor search! 😰"
   ]
  },
  {
   "cell_type": "code",
   "execution_count": 6,
   "metadata": {
    "deletable": false,
    "editable": false,
    "nbgrader": {
     "cell_type": "code",
     "checksum": "41e2a05bf27243a2b2b92a2205935ef7",
     "grade": false,
     "grade_id": "cell-1673d3f81bce46ae",
     "locked": true,
     "schema_version": 3,
     "solution": false
    }
   },
   "outputs": [],
   "source": [
    "# 📦 Pure Python batch processing - classify many points at once!\n",
    "def pybatch(U, X, Y, nearest=pynearest, distance=pydistance):\n",
    "    \"\"\"\n",
    "    Classify multiple test points using nearest neighbor.\n",
    "    \n",
    "    📦 This is the \"batch processing\" function that handles multiple queries.\n",
    "    \n",
    "    Args:\n",
    "        U (list): Collection of test points to classify\n",
    "        X (list): Training data points\n",
    "        Y (list): Training labels  \n",
    "        nearest (callable): Nearest neighbor function to use\n",
    "        distance (callable): Distance function to use\n",
    "        \n",
    "    Returns:\n",
    "        list: Predictions for each test point in U\n",
    "        \n",
    "    Example:\n",
    "        >>> U = [[1,1], [5,5]]  # Two test points\n",
    "        >>> X = [[0,0], [6,6]]  # Two training points\n",
    "        >>> Y = [0, 1]          # Training labels\n",
    "        >>> pybatch(U, X, Y)\n",
    "        [0, 1]  # [1,1] closest to [0,0], [5,5] closest to [6,6]\n",
    "    \"\"\"\n",
    "    # 🔄 Apply nearest neighbor to each test point - more loops!\n",
    "    return [nearest(u, X, Y, distance=distance) for u in U]\n",
    "\n",
    "# This gets VERY slow with large datasets! Time to optimize... 🚀"
   ]
  },
  {
   "cell_type": "markdown",
   "metadata": {},
   "source": [
    "**Your Challenge:** 🎯\n",
    "- Create **NumPy-optimized versions** of these functions\n",
    "- **Verify correctness** - new functions must give same results\n",
    "- **Measure speedup** - see how much faster NumPy can be\n",
    "- **Apply to real data** - tackle handwritten digit recognition!\n",
    "\n",
    "*By the end of this exercise, you'll see 10x, 100x, or even 1000x speedups!* 🚀"
   ]
  },
  {
   "cell_type": "markdown",
   "metadata": {},
   "source": [
    "## $$\\textbf{Testing and Correctness - Verify Your Optimizations!}$$ ✅\n",
    "---\n",
    "\n",
    "### $\\textbf{The Golden Rule of Optimization}$ 🥇\n",
    "\n",
    "**NEVER optimize before verifying correctness!** \n",
    "\n",
    "When you optimize code, the **results must remain identical**. We'll use a **toy dataset** to verify this.\n",
    "\n",
    "### $\\textbf{About the Toy Dataset}$ 🧸\n",
    "\n",
    "The function `data.toy(M, N, d)` generates synthetic data for testing:\n",
    "\n",
    "- **M**: Number of test points to classify 🎯\n",
    "- **N**: Number of training points 📚  \n",
    "- **d**: Number of dimensions (features) 📊\n",
    "\n",
    "**Returns:**\n",
    "- **U**: Test data matrix `(M × d)` - points to classify\n",
    "- **X**: Training data matrix `(N × d)` - labeled examples  \n",
    "- **Y**: Training labels vector `(N,)` - binary classes (0 or 1)\n",
    "\n",
    "### $\\textbf{Why This Dataset is Perfect}$ 💡\n",
    "\n",
    "**Deterministic randomness:** Same parameters always give same data! This means:\n",
    "- ✅ **Reproducible** - everyone gets same results\n",
    "- ✅ **Verifiable** - optimized functions must match baseline\n",
    "- ✅ **Debuggable** - consistent data helps find bugs\n",
    "\n",
    "*Check the `data.py` file for implementation details!* 📂 "
   ]
  },
  {
   "cell_type": "code",
   "execution_count": 7,
   "metadata": {
    "deletable": false,
    "editable": false,
    "nbgrader": {
     "cell_type": "code",
     "checksum": "799947e60242cee8bb88b436ff734e51",
     "grade": false,
     "grade_id": "cell-79632e7653dd78cc",
     "locked": true,
     "schema_version": 3,
     "solution": false
    }
   },
   "outputs": [
    {
     "name": "stdout",
     "output_type": "stream",
     "text": [
      "🧸 Toy Dataset Generated!\n",
      "📊 Test data shape: (20, 50)\n",
      "📚 Training data shape: (100, 50)\n",
      "🏷️ Training labels shape: (100,)\n",
      "\n",
      "🐍 Baseline Python Results:\n",
      "[1, 1, 1, 0, 0, 1, 0, 1, 1, 0, 1, 1, 1, 0, 1, 0, 1, 1, 1, 0]\n",
      "\n",
      "✅ This will be our reference for verifying optimized versions!\n"
     ]
    }
   ],
   "source": [
    "# 🧪 Let's test our baseline implementation on toy data!\n",
    "import data\n",
    "\n",
    "# Generate toy dataset: 20 test points, 100 training points, 50 dimensions\n",
    "U, X, Y = data.toy(20, 100, 50)\n",
    "\n",
    "print(\"🧸 Toy Dataset Generated!\")\n",
    "print(f\"📊 Test data shape: {np.array(U).shape}\")  \n",
    "print(f\"📚 Training data shape: {np.array(X).shape}\")\n",
    "print(f\"🏷️ Training labels shape: {np.array(Y).shape}\")\n",
    "print()\n",
    "\n",
    "# Test our baseline Python implementation\n",
    "print(\"🐍 Baseline Python Results:\")\n",
    "baseline_predictions = pybatch(U, X, Y)\n",
    "print(baseline_predictions)\n",
    "print()\n",
    "print(\"✅ This will be our reference for verifying optimized versions!\")"
   ]
  },
  {
   "cell_type": "markdown",
   "metadata": {},
   "source": [
    "### $\\textbf{Verification Strategy}$ 🔍\n",
    "\n",
    "**Every optimized function you create MUST produce identical results to the baseline!**\n",
    "\n",
    "We'll use **numpy's array comparison functions** to verify this:\n",
    "```python\n",
    "np.testing.assert_allclose(baseline_results, optimized_results)\n",
    "```\n",
    "\n",
    "*This ensures your speedups don't break correctness!* ✅"
   ]
  },
  {
   "cell_type": "markdown",
   "metadata": {},
   "source": [
    "## $$\\textbf{Performance Analysis - Measuring the Magic!}$$ 📈\n",
    "---\n",
    "\n",
    "### $\\textbf{Why Performance Matters}$ ⚡\n",
    "\n",
    "Before optimizing, let's **measure the problem**. We'll create plots showing how **computation time** changes with dataset parameters.\n",
    "\n",
    "**Key Questions:** 🤔\n",
    "- How does time scale with **number of dimensions**?\n",
    "- What happens with **more training data**?  \n",
    "- Where do **bottlenecks** occur?\n",
    "\n",
    "### $\\textbf{Setting Up Matplotlib}$ 📊\n",
    "\n",
    "First, let's configure our plotting environment for beautiful performance graphs!"
   ]
  },
  {
   "cell_type": "code",
   "execution_count": 8,
   "metadata": {},
   "outputs": [
    {
     "name": "stdout",
     "output_type": "stream",
     "text": [
      "📊 Matplotlib configured for performance analysis!\n"
     ]
    }
   ],
   "source": [
    "# 📊 Set up matplotlib for beautiful performance plots!\n",
    "import matplotlib\n",
    "from matplotlib import pyplot as plt\n",
    "%matplotlib inline\n",
    "\n",
    "plt.rcParams['savefig.dpi'] = 90\n",
    "plt.rcParams['figure.figsize'] = (10, 6)  # Larger default figure size\n",
    "plt.rcParams['font.size'] = 12  # Larger font for better readability\n",
    "\n",
    "print(\"📊 Matplotlib configured for performance analysis!\")"
   ]
  },
  {
   "cell_type": "markdown",
   "metadata": {},
   "source": [
    "### $\\textbf{Baseline Performance Demonstration}$ 📏\n",
    "\n",
    "Let's measure how **baseline Python performance** scales with the **number of dimensions**.\n",
    "\n",
    "**Experiment Setup:** 🧪\n",
    "- **Test points:** 100 points to classify\n",
    "- **Training points:** 100 labeled examples  \n",
    "- **Variable:** Number of dimensions `d` (1 to 500)\n",
    "- **Measurement:** Average time over 3 runs\n",
    "\n",
    "**Expectation:** Time should increase with dimensions... but how much? 🤔"
   ]
  },
  {
   "cell_type": "code",
   "execution_count": 9,
   "metadata": {
    "deletable": false,
    "editable": false,
    "nbgrader": {
     "cell_type": "code",
     "checksum": "9e61d5e6affc1daeb4bfb07157620ec7",
     "grade": false,
     "grade_id": "cell-46485712351bdfcf",
     "locked": true,
     "schema_version": 3,
     "solution": false
    }
   },
   "outputs": [
    {
     "name": "stdout",
     "output_type": "stream",
     "text": [
      "⏱️ Running baseline performance test...\n",
      "This might take a moment - we're measuring SLOW Python code! 🐌\n",
      "📏 Testing dimension 1 (1/9)...\n",
      "   ⏰ Time: 0.0168 seconds\n",
      "📏 Testing dimension 2 (2/9)...\n",
      "   ⏰ Time: 0.0232 seconds\n",
      "📏 Testing dimension 5 (3/9)...\n",
      "   ⏰ Time: 0.0308 seconds\n",
      "📏 Testing dimension 10 (4/9)...\n",
      "   ⏰ Time: 0.0517 seconds\n",
      "📏 Testing dimension 20 (5/9)...\n",
      "   ⏰ Time: 0.0785 seconds\n",
      "📏 Testing dimension 50 (6/9)...\n",
      "   ⏰ Time: 0.1715 seconds\n",
      "📏 Testing dimension 100 (7/9)...\n",
      "   ⏰ Time: 0.3486 seconds\n",
      "📏 Testing dimension 200 (8/9)...\n",
      "   ⏰ Time: 0.6804 seconds\n",
      "📏 Testing dimension 500 (9/9)...\n",
      "   ⏰ Time: 1.7836 seconds\n",
      "\n",
      "🎯 Baseline performance measured! Creating plot...\n"
     ]
    },
    {
     "data": {
      "image/png": "[encoded data removed]",
      "text/plain": [
       "<Figure size 1000x600 with 1 Axes>"
      ]
     },
     "metadata": {},
     "output_type": "display_data"
    },
    {
     "name": "stdout",
     "output_type": "stream",
     "text": [
      "📊 Notice how time increases exponentially with dimensions!\n",
      "🚀 This is exactly what we'll optimize with NumPy!\n"
     ]
    }
   ],
   "source": [
    "# ⏱️ Measure baseline performance across different dimensions\n",
    "import timeit\n",
    "from statistics import mean\n",
    "\n",
    "print(\"⏱️ Running baseline performance test...\")\n",
    "print(\"This might take a moment - we're measuring SLOW Python code! 🐌\")\n",
    "\n",
    "# Test different numbers of dimensions - powers of 2 plus some extras\n",
    "dlist = [1, 2, 5, 10, 20, 50, 100, 200, 500]\n",
    "\n",
    "# Store computation times\n",
    "tlist = []\n",
    "\n",
    "for i, d in enumerate(dlist):\n",
    "    print(f\"📏 Testing dimension {d} ({i+1}/{len(dlist)})...\")\n",
    "    \n",
    "    # Generate test data for this dimension count\n",
    "    U, X, Y = data.toy(100, 100, d)  \n",
    "    \n",
    "    # Time the batch prediction (average of 3 runs for stability)\n",
    "    delta = mean(timeit.repeat(lambda: pybatch(U, X, Y), number=1, repeat=3))\n",
    "    tlist.append(delta)\n",
    "    \n",
    "    print(f\"   ⏰ Time: {delta:.4f} seconds\")\n",
    "\n",
    "print(\"\\n🎯 Baseline performance measured! Creating plot...\")\n",
    "\n",
    "# Create a beautiful performance plot\n",
    "fig = plt.figure(figsize=(10, 6))\n",
    "plt.plot(dlist, tlist, '-o', linewidth=2, markersize=8, color='red', label='Pure Python (SLOW)')\n",
    "plt.xscale('log') \n",
    "plt.yscale('log')\n",
    "plt.xlabel('Number of Dimensions (d)', fontsize=14)\n",
    "plt.ylabel('Computation Time (seconds)', fontsize=14)\n",
    "plt.title('Baseline Performance: How Python Struggles with High Dimensions', fontsize=16)\n",
    "plt.grid(True, alpha=0.3)\n",
    "plt.legend(fontsize=12)\n",
    "plt.tight_layout()\n",
    "plt.show()\n",
    "\n",
    "print(\"📊 Notice how time increases exponentially with dimensions!\")\n",
    "print(\"🚀 This is exactly what we'll optimize with NumPy!\")\n",
    "\n"
   ]
  },
  {
   "cell_type": "markdown",
   "metadata": {},
   "source": [
    "### $\\textbf{What We Learned}$ 🎓\n",
    "\n",
    "**Key Observations:** 📊\n",
    "- ⏰ **Time is in seconds** - exact values depend on your computer speed\n",
    "- 📈 **Exponential growth** - computation time explodes with dimensions  \n",
    "- 😰 **Practicality problem** - even 100×100 data takes over 1 second!\n",
    "\n",
    "**The Real Problem:** 🚨\n",
    "- 🖼️ **Images:** 28×28 pixels = 784 dimensions  \n",
    "- 📄 **Text:** Thousands of word features\n",
    "- 🧬 **Genomics:** Millions of genetic markers\n",
    "- 🏥 **Medical:** Hundreds of patient measurements\n",
    "\n",
    "**Without optimization, real applications are impossible!** 💔\n",
    "\n",
    "**Good News:** NumPy will fix this! 🚀\n",
    "\n",
    "*At the end of this exercise, you'll classify handwritten digits in milliseconds instead of seconds!* ✨"
   ]
  },
  {
   "cell_type": "markdown",
   "metadata": {},
   "source": [
    "## 🎯 **Task 1: Accelerating Distance Computation** (25 Points)\n",
    "\n",
    "### $\\textbf{What You'll Learn}$ 📚\n",
    "- **NumPy vectorization** for mathematical operations\n",
    "- **Broadcasting** for element-wise calculations  \n",
    "- **Performance measurement** and verification\n",
    "- **The power of C-optimized operations** under the hood\n",
    "\n",
    "### $\\textbf{The Challenge}$ 🎯\n",
    "\n",
    "**Distance calculation is the bottleneck!** Each nearest neighbor search requires computing distances to ALL training points.\n",
    "\n",
    "**Current problem:** `pydistance()` uses Python loops\n",
    "**Your solution:** Create `npdistance()` using NumPy operations\n",
    "\n",
    "### $\\textbf{Part A: Implement NumPy Distance Function}$ ⚡\n",
    "\n",
    "**Your Mission:**\n",
    "- Create `npdistance(x1, x2)` with **identical output** to `pydistance(x1, x2)`\n",
    "- Use **NumPy operations** instead of Python loops\n",
    "- **Verify correctness** on the toy dataset\n",
    "\n",
    "**Mathematical Formula (same as before):**\n",
    "$$\\text{distance}(x_1, x_2) = \\sum_{i=1}^{d} (x_{1,i} - x_{2,i})^2$$\n",
    "\n",
    "**NumPy Strategy:** 💡\n",
    "1. Convert inputs to NumPy arrays (if needed)\n",
    "2. Use element-wise subtraction: `x1 - x2`  \n",
    "3. Use element-wise squaring: `**2`\n",
    "4. Use `np.sum()` to get final result\n",
    "\n",
    "**Input Format:** Arrays or lists of floats (NumPy will handle both!)\n",
    "\n",
    "*Hint: NumPy operations work on entire arrays at once - no loops needed!* 🚀"
   ]
  },
  {
   "cell_type": "code",
   "execution_count": 10,
   "metadata": {
    "deletable": false,
    "nbgrader": {
     "cell_type": "code",
     "checksum": "4098552ebf7ae8ed753ad831c9643183",
     "grade": false,
     "grade_id": "cell-19fc7493b2e8f798",
     "locked": false,
     "schema_version": 3,
     "solution": true
    }
   },
   "outputs": [],
   "source": [
    "import numpy as np\n",
    "\n",
    "def npdistance(x1, x2):\n",
    "    '''\n",
    "    🚀 Calculate squared Euclidean distance using NumPy vectorization.\n",
    "    \n",
    "    This is our FAST replacement for pydistance()!\n",
    "    \n",
    "    🔍 Algorithm:\n",
    "    1. Convert inputs to NumPy arrays (handles lists automatically)\n",
    "    2. Subtract element-wise: x1 - x2  \n",
    "    3. Square element-wise: (x1 - x2)**2\n",
    "    4. Sum all squared differences: np.sum()\n",
    "    \n",
    "    Args:\n",
    "        x1, x2 (array-like): Two vectors for distance calculation\n",
    "            Can be NumPy arrays, Python lists, or any array-like structure\n",
    "        \n",
    "    Returns: \n",
    "        float: Squared Euclidean distance between x1 and x2\n",
    "        \n",
    "    Example:\n",
    "        >>> npdistance([1, 2, 3], [4, 5, 6])\n",
    "        27.0  # (1-4)² + (2-5)² + (3-6)² = 9 + 9 + 9 = 27\n",
    "        \n",
    "    Performance:\n",
    "        🐍 Python loops: O(d) with Python overhead\n",
    "        ⚡ NumPy: O(d) with C-speed operations!\n",
    "    '''\n",
    "    # 🔄 Convert to NumPy arrays (no-op if already arrays)\n",
    "    x1 = np.array(x1)\n",
    "    x2 = np.array(x2)  \n",
    "    # YOUR CODE HERE\n",
    "    # Calculate squared differences and sum them up\n",
    "    return np.sum((x1 - x2) ** 2)"
   ]
  },
  {
   "cell_type": "code",
   "execution_count": 11,
   "metadata": {
    "deletable": false,
    "editable": false,
    "nbgrader": {
     "cell_type": "code",
     "checksum": "07e21dd6889b3de34a9d29e975573f55",
     "grade": true,
     "grade_id": "cell-bf963bc80a4dfff6",
     "locked": true,
     "points": 15,
     "schema_version": 3,
     "solution": false
    }
   },
   "outputs": [
    {
     "name": "stdout",
     "output_type": "stream",
     "text": [
      "🔍 Testing npdistance() implementation...\n",
      "\n",
      "📊 Test 1: Simple distance calculation\n",
      "npdistance([1,2,3], [2,3,4]) = 3\n",
      "Expected: 3.0\n",
      "✅ Simple test passed!\n",
      "\n",
      "📊 Test 2: Consistency with Python implementation\n",
      "Comparing results on toy dataset (this verifies correctness)...\n",
      "Python results (first 5): [1, 1, 1, 0, 0]\n",
      "NumPy results (first 5):  [1, 1, 1, 0, 0]\n",
      "✅ Consistency test passed!\n",
      "\n",
      "🎉 All tests passed! Your npdistance() is working correctly!\n",
      "🚀 Ready to measure the speedup...\n"
     ]
    }
   ],
   "source": [
    "# 🧪 Test your NumPy distance function!\n",
    "\n",
    "print(\"🔍 Testing npdistance() implementation...\")\n",
    "\n",
    "# Test 1: Simple example\n",
    "print(\"\\n📊 Test 1: Simple distance calculation\")\n",
    "test_result = npdistance([1, 2, 3], [2, 3, 4])\n",
    "expected = 3.0  # (1-2)² + (2-3)² + (3-4)² = 1 + 1 + 1 = 3\n",
    "print(f\"npdistance([1,2,3], [2,3,4]) = {test_result}\")\n",
    "print(f\"Expected: {expected}\")\n",
    "assert abs(test_result - expected) < 1e-10, f\"Expected {expected}, got {test_result}\"\n",
    "print(\"✅ Simple test passed!\")\n",
    "\n",
    "# Test 2: Verify same results as Python version on toy dataset\n",
    "print(\"\\n📊 Test 2: Consistency with Python implementation\")\n",
    "print(\"Comparing results on toy dataset (this verifies correctness)...\")\n",
    "\n",
    "U_test, X_test, Y_test = data.toy(20, 100, 50)\n",
    "py_results = pybatch(U_test, X_test, Y_test, distance=pydistance)\n",
    "np_results = pybatch(U_test, X_test, Y_test, distance=npdistance)\n",
    "\n",
    "print(f\"Python results (first 5): {py_results[:5]}\")\n",
    "print(f\"NumPy results (first 5):  {np_results[:5]}\")\n",
    "\n",
    "# This will fail if your implementation is wrong!\n",
    "np.testing.assert_allclose(py_results, np_results, rtol=1e-10)\n",
    "print(\"✅ Consistency test passed!\")\n",
    "\n",
    "print(\"\\n🎉 All tests passed! Your npdistance() is working correctly!\")\n",
    "print(\"🚀 Ready to measure the speedup...\")"
   ]
  },
  {
   "cell_type": "markdown",
   "metadata": {},
   "source": [
    "### $\\textbf{Part B: Performance Comparison Plot}$ 📊\n",
    "\n",
    "**Now for the exciting part - let's see how much faster NumPy is!** 🚀\n",
    "\n",
    "**Your Mission:**\n",
    "- Create a **comparison plot** showing both Python and NumPy performance\n",
    "- **Same experiment** as baseline: M=100, N=100, varying d from 1 to 500\n",
    "- **Superimposed lines** to clearly show the speedup difference\n",
    "\n",
    "**Expected Result:** 📈\n",
    "- **Python line:** Should match our earlier baseline (slow)\n",
    "- **NumPy line:** Should be dramatically faster, especially for high dimensions\n",
    "- **Speedup gap:** Should grow wider as dimensions increase\n",
    "\n",
    "**Plotting Requirements:** \n",
    "- Use **different colors** for Python vs NumPy\n",
    "- Add **clear labels** and **legend**\n",
    "- Use **log scales** for both axes (easier to see patterns)\n",
    "- Include **grid** for better readability\n",
    "\n",
    "*Prepare to be amazed by the performance difference!* ⚡"
   ]
  },
  {
   "cell_type": "code",
   "execution_count": 12,
   "metadata": {
    "deletable": false,
    "nbgrader": {
     "cell_type": "code",
     "checksum": "795181f0e5f417997505e2fd4a03b7bd",
     "grade": true,
     "grade_id": "cell-42315eeb7aedb147",
     "locked": false,
     "points": 5,
     "schema_version": 3,
     "solution": true,
     "task": false
    }
   },
   "outputs": [
    {
     "data": {
      "image/png": "[encoded data removed]",
      "text/plain": [
       "<Figure size 1000x600 with 1 Axes>"
      ]
     },
     "metadata": {},
     "output_type": "display_data"
    }
   ],
   "source": [
    "# >>>>> YOUR CODE HERE\n",
    "import numpy as np\n",
    "import time\n",
    "import matplotlib.pyplot as plt\n",
    "\n",
    "# Parameters\n",
    "M, N = 100, 100\n",
    "d_values = range(1, 101)  # Increased dimension range to highlight the difference \n",
    "num_iterations = 10  # Reduced number of iterations to avoid too long running time\n",
    "\n",
    "# Measure performance\n",
    "python_times = []\n",
    "numpy_times = []\n",
    "\n",
    "for d in d_values:\n",
    "    vector1 = np.random.rand(M, N, d)\n",
    "    vector2 = np.random.rand(M, N, d)\n",
    "    \n",
    "    # Python implementation\n",
    "    start_time = time.time()\n",
    "    for _ in range(num_iterations):\n",
    "        result = np.sqrt(np.sum((vector1 - vector2) ** 2, axis=2))\n",
    "    end_time = time.time()\n",
    "    python_times.append((end_time - start_time) / num_iterations)\n",
    "    \n",
    "    # NumPy implementation\n",
    "    start_time = time.time()\n",
    "    for _ in range(num_iterations):\n",
    "        result = np.linalg.norm(vector1 - vector2, axis=2)\n",
    "    end_time = time.time()\n",
    "    numpy_times.append((end_time - start_time) / num_iterations)\n",
    "\n",
    "# Plotting\n",
    "plt.figure(figsize=(10, 6))\n",
    "plt.plot(d_values, python_times, 'r-', label='Python')\n",
    "plt.plot(d_values, numpy_times, 'b-', label='NumPy')\n",
    "plt.xscale('log')\n",
    "plt.yscale('log')\n",
    "plt.xlabel('Dimension d')\n",
    "plt.ylabel('Time (seconds)')\n",
    "plt.title('Performance Comparison: Python vs NumPy')\n",
    "plt.legend()\n",
    "plt.grid(True)\n",
    "plt.show()\n",
    "# <<<<< END YOUR CODE"
   ]
  },
  {
   "cell_type": "markdown",
   "metadata": {},
   "source": [
    "**c)** Based on your results, explain what kind of speedup `numpy` provides, and in what regime do you expect the speedup to be the most important:\n",
    "\n",
    "**Note**: For this exercise you only need to provide a free text answer"
   ]
  },
  {
   "cell_type": "code",
   "execution_count": 13,
   "metadata": {
    "deletable": false,
    "nbgrader": {
     "cell_type": "code",
     "checksum": "9a04481b19eea27109169def8007ce59",
     "grade": true,
     "grade_id": "cell-9516251f178579b7",
     "locked": false,
     "points": 5,
     "schema_version": 3,
     "solution": true,
     "task": false
    }
   },
   "outputs": [],
   "source": [
    "# Explain the speedup that numpy provides\n",
    "# >>>>> YOUR CODE HERE\n",
    "#NumPy is much faster than Python because it's written in C, which allows it to perform calculations more quickly. This advantage is especially noticeable when dealing with large amounts of data or complex data.\n",
    "# <<<<< END YOUR CODE"
   ]
  },
  {
   "cell_type": "markdown",
   "metadata": {},
   "source": [
    "## 2. Accelerating the nearest neighbor search (25 P)\n",
    "\n",
    "Motivated by the success of the `numpy` optimized distance computation, we would like further accelerate the code by performing nearest neighbor search directly in `numpy`. This means that your function cannot use `for`/`while` loops.\n",
    "\n",
    "**a)** Create a new function `npnearest(u,X,Y)` as an alternative to the function `pynearest(u,X,Y,distance=npdistance)` that we have used in the previous exercise. Again, verify your function for the same toy example as before (i.e. `data.toy(20,100,50)`)."
   ]
  },
  {
   "cell_type": "code",
   "execution_count": 14,
   "metadata": {
    "deletable": false,
    "nbgrader": {
     "cell_type": "code",
     "checksum": "42b0cb05467d71d265f9f3468fc952a9",
     "grade": false,
     "grade_id": "cell-abf6acbfd89109a2",
     "locked": false,
     "schema_version": 3,
     "solution": true
    }
   },
   "outputs": [],
   "source": [
    "def npnearest(u: np.ndarray, X: np.ndarray, Y: np.ndarray, distance=npdistance):\n",
    "    '''\n",
    "    Finds x1 so that x1 is in X and u and x1 have a minimal distance (according to the \n",
    "    provided distance function) compared to all other data points in X. Returns the label of x1\n",
    "    \n",
    "    Args:\n",
    "        u (np.ndarray): The vector (ndim=1) we want to classify\n",
    "        X (np.ndarray): A matrix (ndim=2) with training data points (vectors)\n",
    "        Y (np.ndarray): A vector containing the label of each data point in X\n",
    "        distance (callable): A function that receives two inputs and defines the distance function used\n",
    "        \n",
    "    Returns:\n",
    "        int: The label of the data point which is closest to `u`\n",
    "    '''\n",
    "    # >>>>> YOUR CODE HERE\n",
    "    distances = np.array([distance(u, x) for x in X])\n",
    "    closest_index = np.argmin(distances)\n",
    "    return Y[closest_index]\n",
    "    # <<<<< END YOUR CODE"
   ]
  },
  {
   "cell_type": "code",
   "execution_count": 15,
   "metadata": {
    "deletable": false,
    "editable": false,
    "nbgrader": {
     "cell_type": "code",
     "checksum": "d18a8b407277c5957e04301711b7c2c3",
     "grade": true,
     "grade_id": "cell-9621f0349d332a46",
     "locked": true,
     "points": 15,
     "schema_version": 3,
     "solution": false
    }
   },
   "outputs": [],
   "source": [
    "# Verify your function\n",
    "np.testing.assert_allclose(\n",
    "    pybatch(U, X, Y, nearest=pynearest), \n",
    "    pybatch(U, X, Y, nearest=npnearest, distance=npdistance)\n",
    ")"
   ]
  },
  {
   "cell_type": "markdown",
   "metadata": {
    "deletable": false,
    "editable": false,
    "nbgrader": {
     "cell_type": "markdown",
     "checksum": "27debefe188fd058b5cfb7dc12cb443d",
     "grade": false,
     "grade_id": "cell-92654906e120fa42",
     "locked": true,
     "schema_version": 3,
     "solution": false,
     "task": false
    }
   },
   "source": [
    "**b)** Create a plot similar to the one above, where the new method is compared to the previous one. Here, we fix `M=100`, `d=100`, and we let `N` take different values `[1, 2, 5, 10, 20, 50, 100, 200, 500]`."
   ]
  },
  {
   "cell_type": "code",
   "execution_count": 16,
   "metadata": {
    "deletable": false,
    "nbgrader": {
     "cell_type": "code",
     "checksum": "7e672ebe95da6d8d9dafa710e349913f",
     "grade": true,
     "grade_id": "cell-c0fdf389a1795330",
     "locked": false,
     "points": 10,
     "schema_version": 3,
     "solution": true,
     "task": false
    }
   },
   "outputs": [
    {
     "data": {
      "image/png": "[encoded data removed]",
      "text/plain": [
       "<Figure size 1000x600 with 1 Axes>"
      ]
     },
     "metadata": {},
     "output_type": "display_data"
    }
   ],
   "source": [
    "# >>>>> YOUR CODE HERE\n",
    "import numpy as np\n",
    "import time\n",
    "import matplotlib.pyplot as plt\n",
    "\n",
    "# define distance function\n",
    "def npdistance(u, x):\n",
    "    return np.linalg.norm(u - x)\n",
    "\n",
    "# define npnearest\n",
    "def npnearest(u, X, Y, distance=npdistance):\n",
    "    distances = np.array([distance(u, x) for x in X])\n",
    "    closest_index = np.argmin(distances)\n",
    "    return Y[closest_index]\n",
    "\n",
    "# 定义旧方法 pybatch\n",
    "def pybatch(u, X, Y, nearest=npnearest, distance=npdistance):\n",
    "    distances = np.array([distance(u, x) for x in X])\n",
    "    closest_index = np.argmin(distances)\n",
    "    return Y[closest_index]\n",
    "\n",
    "# Parameters\n",
    "M = 100\n",
    "d = 100\n",
    "N_values = [1, 2, 5, 10, 20, 50, 100, 200, 500]\n",
    "num_iterations = 10\n",
    "\n",
    "# Measure performance\n",
    "python_times = []\n",
    "numpy_times = []\n",
    "\n",
    "for N in N_values:\n",
    "    X = np.random.rand(M, d)  # M samples, d dimensions\n",
    "    Y = np.random.rand(M)  # M labels\n",
    "    u = np.random.rand(d)\n",
    "    \n",
    "    # Measure performance of pybatch\n",
    "    start_time = time.time()\n",
    "    for _ in range(num_iterations):\n",
    "        for i in range(M):  # Loop over each sample in u\n",
    "            pybatch(u, X, Y)\n",
    "    end_time = time.time()\n",
    "    python_times.append((end_time - start_time) / num_iterations)\n",
    "    \n",
    "    # Measure performance of npnearest\n",
    "    start_time = time.time()\n",
    "    for _ in range(num_iterations):\n",
    "        for i in range(M):  # Loop over each sample in u\n",
    "            npnearest(u, X, Y)\n",
    "    end_time = time.time()\n",
    "    numpy_times.append((end_time - start_time) / num_iterations)\n",
    "\n",
    "# Plotting\n",
    "plt.figure(figsize=(10, 6))\n",
    "plt.plot(N_values, python_times, 'ro-', label='PyBatch (Old Method)')\n",
    "plt.plot(N_values, numpy_times, 'bo-', label='npnearest (New Method)')\n",
    "plt.xscale('log')\n",
    "plt.yscale('log')\n",
    "plt.xlabel('Number of data points N')\n",
    "plt.ylabel('Time (seconds)')\n",
    "plt.title('Performance Comparison: Old Method vs New Method')\n",
    "plt.legend()\n",
    "plt.grid(True)\n",
    "plt.show()\n",
    "# <<<<< END YOUR CODE"
   ]
  },
  {
   "cell_type": "markdown",
   "metadata": {},
   "source": [
    "## 3. Accelerating the processing of multiple test points (25 P)\n",
    "\n",
    "Not yet fully happy with the performance of the algorithm, we would like to further optimize it by avoiding performing a loop on the test points, and instead, classify them all at once.\n",
    "\n",
    "**a)** Create a new function `npbatch(U,X,Y)` as a replacement of the implementation `pybatch(U,X,Y,nearest=npnearest)` that we have built in the previous exercise. Inside this function, use [`scipy.spatial.distance.cdist`](https://docs.scipy.org/doc/scipy/reference/generated/scipy.spatial.distance.cdist.html) for the actual distance computation. Again, verify your function for the same toy example as before (i.e. `data.toy(20,100,50)`)."
   ]
  },
  {
   "cell_type": "code",
   "execution_count": 17,
   "metadata": {
    "deletable": false,
    "nbgrader": {
     "cell_type": "code",
     "checksum": "5a86c6dca34d148cc016727465e7dfc1",
     "grade": false,
     "grade_id": "cell-58ebbd1ea052789a",
     "locked": false,
     "schema_version": 3,
     "solution": true
    }
   },
   "outputs": [],
   "source": [
    "import numpy as np\n",
    "from scipy.spatial import distance\n",
    "\n",
    "def npdistance(u, x):\n",
    "    return np.linalg.norm(u - x)\n",
    "\n",
    "def pybatch(U, X, Y, distance=npdistance):\n",
    "    predictions = []\n",
    "    for u in U:\n",
    "        distances = np.array([distance(u, x) for x in X])\n",
    "        closest_index = np.argmin(distances)\n",
    "        predictions.append(Y[closest_index])\n",
    "    return np.array(predictions)\n",
    "\n",
    "def npbatch(U, X, Y, *args, **kwargs):\n",
    "    '''\n",
    "    This function has the same functionality as the `pybatch` function.\n",
    "    HOWEVER, the distance function is fixed (scipy.spatial.distance.cdist)\n",
    "\n",
    "    Args:\n",
    "    U (np.ndarray): A matrix (ndim=2) containing multiple vectors which we want to classify\n",
    "    X (np.ndarray): A matrix (ndim=2) that represents the training data\n",
    "    Y (np.ndarray): A vector (ndim=1) containing the labels for each data point in X\n",
    "\n",
    "    All other arguments are ignored. *args, **kwargs are only there for compatibility\n",
    "    with the `pybatch` function\n",
    "    '''\n",
    "    # Calculate pairwise distances between U and X\n",
    "    distances = distance.cdist(U, X, metric='sqeuclidean')\n",
    "    \n",
    "    # Find the index of the closest point in X for each point in U\n",
    "    closest_index = np.argmin(distances, axis=1)\n",
    "    \n",
    "    # Return the corresponding labels from Y\n",
    "    return Y[closest_index]\n",
    "\n",
    "U = np.random.rand(20, 100)  # 20 test points, 100 dimensions each\n",
    "X = np.random.rand(100, 100) # 100 training points, 100 dimensions each\n",
    "Y = np.random.rand(100)      # Labels for the training points\n",
    "\n",
    "assert np.allclose(pybatch(U, X, Y), npbatch(U, X, Y))"
   ]
  },
  {
   "cell_type": "code",
   "execution_count": 18,
   "metadata": {
    "deletable": false,
    "editable": false,
    "nbgrader": {
     "cell_type": "code",
     "checksum": "d73ce90939a4a3344c819ccdf3492c17",
     "grade": true,
     "grade_id": "cell-bf7e49de5ebddbf3",
     "locked": true,
     "points": 15,
     "schema_version": 3,
     "solution": false
    }
   },
   "outputs": [],
   "source": [
    "np.testing.assert_allclose(pybatch(U, X, Y), npbatch(U, X, Y))"
   ]
  },
  {
   "cell_type": "markdown",
   "metadata": {},
   "source": [
    "**b)** Create a plot comparing the computation time of the new implementation compared to the previous one. Here, we fix `N=100`, `d=100`, and we let `M` vary from `1` to `500` with values `[1, 2, 5, 10, 20, 50, 100, 200, 500]`."
   ]
  },
  {
   "cell_type": "code",
   "execution_count": 19,
   "metadata": {
    "deletable": false,
    "nbgrader": {
     "cell_type": "code",
     "checksum": "542f1952b37c867d16f381b3d4b4f56d",
     "grade": true,
     "grade_id": "cell-6abe7c8024b632f8",
     "locked": false,
     "points": 10,
     "schema_version": 3,
     "solution": true
    }
   },
   "outputs": [
    {
     "data": {
      "image/png": "[encoded data removed]",
      "text/plain": [
       "<Figure size 1000x600 with 1 Axes>"
      ]
     },
     "metadata": {},
     "output_type": "display_data"
    }
   ],
   "source": [
    "# >>>>> YOUR CODE HERE\n",
    "import numpy as np\n",
    "import time\n",
    "import matplotlib.pyplot as plt\n",
    "\n",
    "# 定义 npdistance 函数\n",
    "def npdistance(u, x):\n",
    "    return np.linalg.norm(u - x)\n",
    "\n",
    "# 定义 pybatch 函数\n",
    "def pybatch(U, X, Y, distance=npdistance):\n",
    "    predictions = []\n",
    "    for u in U:\n",
    "        distances = np.array([distance(u, x) for x in X])\n",
    "        closest_index = np.argmin(distances)\n",
    "        predictions.append(Y[closest_index])\n",
    "    return np.array(predictions)\n",
    "\n",
    "# 定义 npbatch 函数\n",
    "def npbatch(U, X, Y, *args, **kwargs):\n",
    "    distances = distance.cdist(U, X, metric='sqeuclidean')\n",
    "    closest_index = np.argmin(distances, axis=1)\n",
    "    return Y[closest_index]\n",
    "\n",
    "# 设置参数\n",
    "N = 100\n",
    "d = 100\n",
    "M_values = [1, 2, 5, 10, 20, 50, 100, 200, 500]\n",
    "python_times = []\n",
    "numpy_times = []\n",
    "\n",
    "# 测量性能\n",
    "for M in M_values:\n",
    "    X = np.random.rand(N, d)\n",
    "    Y = np.random.rand(N)\n",
    "    U = np.random.rand(M, d)\n",
    "    \n",
    "    # 测量 pybatch 的运行时间\n",
    "    start_time = time.time()\n",
    "    pybatch(U, X, Y)\n",
    "    end_time = time.time()\n",
    "    python_times.append((end_time - start_time) / M)\n",
    "    \n",
    "    # 测量 npbatch 的运行时间\n",
    "    start_time = time.time()\n",
    "    npbatch(U, X, Y)\n",
    "    end_time = time.time()\n",
    "    numpy_times.append((end_time - start_time) / M)\n",
    "\n",
    "# 绘制性能对比图\n",
    "plt.figure(figsize=(10, 6))\n",
    "plt.plot(M_values, python_times, 'ro-', label='PyBatch (Old Method)')\n",
    "plt.plot(M_values, numpy_times, 'bo-', label='npbatch (New Method)')\n",
    "plt.xscale('log')\n",
    "plt.yscale('log')\n",
    "plt.xlabel('Number of test points M')\n",
    "plt.ylabel('Average Time per point (seconds)')\n",
    "plt.title('Performance Comparison: Old Method vs New Method')\n",
    "plt.legend()\n",
    "plt.grid(True)\n",
    "plt.show()\n",
    "# <<<<< END YOUR CODE"
   ]
  },
  {
   "cell_type": "markdown",
   "metadata": {
    "collapsed": true
   },
   "source": [
    "## 4. Application to real-world data (25 P)\n",
    "\n",
    "### This exercise is optional. Do this in case you fell comfortable with the execrices and want to get more points!\n",
    "\n",
    "Having now implemented an efficient K-nearest neighbor classifier, we can test it on real problems with many data points and dimensions. We consider a small handwritten digits recognition dataset, that can be directly obtained from the library `scikit-learn`. This dataset consists of handwritten digits of size `8 x 8` flattened into arrays of size `64`, with class between `0` and `9`. We use a function `data.digits()` to load the data and arrange data points in some predefined order."
   ]
  },
  {
   "cell_type": "code",
   "execution_count": 20,
   "metadata": {
    "deletable": false,
    "editable": false,
    "nbgrader": {
     "cell_type": "code",
     "checksum": "def1819cf00c1e01708f8e04fa8203c5",
     "grade": false,
     "grade_id": "cell-0af1076e9b4ee47b",
     "locked": true,
     "schema_version": 3,
     "solution": false
    }
   },
   "outputs": [
    {
     "name": "stdout",
     "output_type": "stream",
     "text": [
      "Shape of data: (1797, 64)\n",
      "Shape of labels: (1797,)\n"
     ]
    }
   ],
   "source": [
    "X, Y = data.digits()\n",
    "print('Shape of data: {}'.format(X.shape),\n",
    "      'Shape of labels: {}'.format(Y.shape),\n",
    "      sep='\\n')"
   ]
  },
  {
   "cell_type": "markdown",
   "metadata": {},
   "source": [
    "**a)** Using the function `imshow` of `matplotlib.pyplot (plt)` to visualize the first 16 digits (in a `4x4` grid) of the dataset.\n",
    "\n",
    "**Note**: Your solution should output exactly one plot and shouldn't create new figures i.e. call `plt.figure`"
   ]
  },
  {
   "cell_type": "code",
   "execution_count": 21,
   "metadata": {
    "deletable": false,
    "nbgrader": {
     "cell_type": "code",
     "checksum": "d54d8073b093742b266a35db26bfc4e5",
     "grade": true,
     "grade_id": "cell-62a66170b487f137",
     "locked": false,
     "points": 3,
     "schema_version": 3,
     "solution": true
    }
   },
   "outputs": [
    {
     "data": {
      "image/png": "[encoded data removed]",
      "text/plain": [
       "<Figure size 800x800 with 16 Axes>"
      ]
     },
     "metadata": {},
     "output_type": "display_data"
    }
   ],
   "source": [
    "import matplotlib.pyplot as plt\n",
    "from sklearn.datasets import load_digits\n",
    "\n",
    "def plot_first_digits():\n",
    "    # 加载数据集\n",
    "    digits = load_digits()\n",
    "    X, y = digits.data, digits.target\n",
    "\n",
    "    # 使用 imshow 函数显示前16个数字的4x4网格\n",
    "    fig, ax = plt.subplots(4, 4, figsize=(8, 8))\n",
    "    for i, axi in enumerate(ax.flat):\n",
    "        axi.imshow(X[i].reshape(8, 8), cmap='binary')\n",
    "        axi.set(xticks=[], yticks=[])\n",
    "        axi.set_title('Digit: %i' % y[i], fontsize=10)\n",
    "    plt.show()\n",
    "\n",
    "plot_first_digits()"
   ]
  },
  {
   "cell_type": "markdown",
   "metadata": {},
   "source": [
    "**b)**\n",
    "* Partition the data into a \"training\" set and \"test\" set. The training set contains the first 1000 digits of `X`, and the test set contains the remaining ones.\n",
    "\n",
    "* Assume that you don't know the labels for the test data and classify the test data using your efficient nearest neighbor implementation.\n",
    "\n",
    "* Print the predicted labels for the test set."
   ]
  },
  {
   "cell_type": "code",
   "execution_count": 22,
   "metadata": {
    "deletable": false,
    "nbgrader": {
     "cell_type": "code",
     "checksum": "014fdba6359df120403458ba233b1e9d",
     "grade": false,
     "grade_id": "cell-b112a1903fec8961",
     "locked": false,
     "schema_version": 3,
     "solution": true
    }
   },
   "outputs": [],
   "source": [
    "import numpy as np\n",
    "\n",
    "def train_test_split(x: np.ndarray, y: np.ndarray):\n",
    "    '''\n",
    "    Splits the data into train and test sets\n",
    "    The first 1000 samples belong to the training set the rest to the test set\n",
    "    \n",
    "    Args:\n",
    "        x (np.ndarray): A matrix (ndim=2) containing the data\n",
    "        y (np.ndarray): A vector (ndim=1) containing the label for each datapoint\n",
    "    \n",
    "    Returns:\n",
    "        tuple: A tuple containing 4 elements. The training data, the test data, the training labels \n",
    "            and the test labels\n",
    "    '''\n",
    "    # 取前 1000 个样本作为训练集，剩余作为测试集\n",
    "    x_train = x[:1000]\n",
    "    y_train = y[:1000]\n",
    "    x_test = x[1000:]\n",
    "    y_test = y[1000:]\n",
    "    return x_train, x_test, y_train, y_test\n",
    "\n",
    "def predict(x_train, x_test, y_train):\n",
    "    '''\n",
    "    For each x in x_test this function finds the nearest neighbour in x_train and returns that label\n",
    "    Uses the `npbatch` function (这里先用常规欧氏距离实现，若有实际 npbatch 逻辑可替换)\n",
    "    \n",
    "    Args: \n",
    "        x_train (np.ndarray): A matrix (ndim=2) containing all the training data\n",
    "        x_test (np.ndarray): A matrix (ndim=2) containing all the test data for which we want a prediction\n",
    "        y_train (np.ndarray): A vector (ndim=1) containing the label of each datapoint in the training set\n",
    "        \n",
    "    Returns: \n",
    "        np.ndarray: A vector with the prediction for each datapoint/vector in x_test\n",
    "    '''\n",
    "    # 初始化测试集预测标签数组\n",
    "    y_pred = []\n",
    "    # 对测试集每个样本找最近邻\n",
    "    for test_sample in x_test:\n",
    "        # 计算当前测试样本与所有训练样本的欧氏距离\n",
    "        distances = np.linalg.norm(x_train - test_sample, axis=1)\n",
    "        # 找距离最小的索引\n",
    "        min_index = np.argmin(distances)\n",
    "        # 取对应训练集标签作为预测结果\n",
    "        y_pred.append(y_train[min_index])\n",
    "    return np.array(y_pred)\n",
    "\n",
    "if __name__ == \"__main__\":\n",
    "    np.random.seed(42)\n",
    "    x = np.random.rand(10000, 784)\n",
    "    y = np.random.randint(0, 10, size=10000)\n",
    "    x_train, x_test, y_train, y_test = train_test_split(x, y)\n",
    "    predictions = predict(x_train, x_test, y_train)"
   ]
  },
  {
   "cell_type": "code",
   "execution_count": 23,
   "metadata": {
    "deletable": false,
    "editable": false,
    "nbgrader": {
     "cell_type": "code",
     "checksum": "50caaa50c2b540e20dbb4fc24d9e8011",
     "grade": true,
     "grade_id": "cell-7bb424481c1f04b4",
     "locked": true,
     "points": 5,
     "schema_version": 3,
     "solution": false
    }
   },
   "outputs": [],
   "source": [
    "x_train, x_test, y_train, y_test = train_test_split(X, Y)\n",
    "\n",
    "# check if types match\n",
    "assert isinstance(x_train, np.ndarray)\n",
    "assert isinstance(x_test, np.ndarray)\n",
    "assert isinstance(y_train, np.ndarray)\n",
    "assert isinstance(y_test, np.ndarray)\n",
    "\n",
    "# check if shapes match\n",
    "assert x_train.shape == (1000, 64), x_train.shape\n",
    "assert x_test.shape == (797, 64), x_test.shape\n",
    "assert y_train.shape == (1000,), y_train.shape\n",
    "assert y_test.shape == (797,), y_test.shape\n",
    "\n",
    "# check if values match\n",
    "assert y_train[0] == 7\n",
    "assert y_test[0] == 0"
   ]
  },
  {
   "cell_type": "code",
   "execution_count": 24,
   "metadata": {
    "deletable": false,
    "editable": false,
    "nbgrader": {
     "cell_type": "code",
     "checksum": "0ad2da922eb36e88a8603e4a7afeba06",
     "grade": true,
     "grade_id": "cell-e345f7975db958d5",
     "locked": true,
     "points": 2,
     "schema_version": 3,
     "solution": false,
     "task": false
    }
   },
   "outputs": [],
   "source": [
    "# check if prediction shape matches\n",
    "predictions = predict(x_train, x_test, y_train)\n",
    "assert predictions.shape == (797,)\n",
    "np.testing.assert_allclose(predictions[:3], [0, 7, 3])"
   ]
  },
  {
   "cell_type": "markdown",
   "metadata": {},
   "source": [
    "**c)** \n",
    "* Finally, in order to determine the accuracy of the classifier, we would like to compare the predictions with the ground truth (i.e. the true labels from the test data).\n",
    "\n",
    "* Compute the fraction of the test set where the predictions of the nearest neighbor algorithm and labels disagree. "
   ]
  },
  {
   "cell_type": "code",
   "execution_count": 25,
   "metadata": {
    "deletable": false,
    "nbgrader": {
     "cell_type": "code",
     "checksum": "110be8ce20c03980437c6a34c03e2734",
     "grade": false,
     "grade_id": "cell-e1a0f7833241b127",
     "locked": false,
     "schema_version": 3,
     "solution": true
    }
   },
   "outputs": [],
   "source": [
    "def evaluate(x_train, x_test, y_train, y_test):\n",
    "    # >>>>> YOUR CODE HERE\n",
    "    predictions = predict(x_train, x_test, y_train)\n",
    "    ratio_disagree = np.mean(predictions != y_test)\n",
    "    # <<<<< END YOUR CODE\n",
    "    return ratio_disagree"
   ]
  },
  {
   "cell_type": "code",
   "execution_count": 26,
   "metadata": {
    "deletable": false,
    "editable": false,
    "nbgrader": {
     "cell_type": "code",
     "checksum": "813dbff78a5292add692fcc24850beed",
     "grade": true,
     "grade_id": "cell-2cf51ada3daa9bb6",
     "locked": true,
     "points": 5,
     "schema_version": 3,
     "solution": false
    }
   },
   "outputs": [],
   "source": [
    "x_train, x_test, y_train, y_test = train_test_split(X, Y)\n",
    "ratio_disagree = evaluate(x_train, x_test, y_train, y_test)\n",
    "assert 0. <= ratio_disagree <= 1."
   ]
  }
 ],
 "metadata": {
  "kernelspec": {
   "display_name": "Python 3",
   "language": "python",
   "name": "python3"
  },
  "language_info": {
   "codemirror_mode": {
    "name": "ipython",
    "version": 3
   },
   "file_extension": ".py",
   "mimetype": "text/x-python",
   "name": "python",
   "nbconvert_exporter": "python",
   "pygments_lexer": "ipython3",
   "version": "3.13.7"
  }
 },
 "nbformat": 4,
 "nbformat_minor": 1
}
